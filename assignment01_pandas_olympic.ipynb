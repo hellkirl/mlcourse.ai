{
 "cells": [
  {
   "cell_type": "markdown",
   "metadata": {},
   "source": [
    "<img src=\"https://habrastorage.org/webt/ia/m9/zk/iam9zkyzqebnf_okxipihkgjwnw.jpeg\" />\n",
    "    \n",
    "**<center>[mlcourse.ai](https://mlcourse.ai) – Open Machine Learning Course** </center><br>\n",
    "Authors: Arina Lopukhova (@erynn), and [Yury Kashnitsky](https://yorko.github.io) (@yorko). Edited by Vadim Shestopalov (@vchulski). [mlcourse.ai](https://mlcourse.ai) is powered by [OpenDataScience (ods.ai)](https://ods.ai/) © 2017—2022"
   ]
  },
  {
   "cell_type": "markdown",
   "metadata": {},
   "source": [
    "# <center>Assignment #1. Task </center> <a class=\"tocSkip\">\n",
    "## <center>Exploratory Data Analysis (EDA) of Olympic games with Pandas </center> <a class=\"tocSkip\">\n",
    "    \n",
    "<img src=\"https://habrastorage.org/webt/my/70/d9/my70d97xhwfj8krp2q2qmn_smww.png\" width=50%>"
   ]
  },
  {
   "cell_type": "markdown",
   "metadata": {},
   "source": [
    "There are ten questions about 120 years of Olympic history in this assignment.\n",
    "\n",
    "### Your task is to:\n",
    " 1. write code and perform computations in the cells below;\n",
    " 2. choose answers in the [webform](https://docs.google.com/forms/d/1SJcNJxnY5Wwb_sDSxmb-FyghraeOt-ZmQMA0XzOLu4I).\n",
    " \n",
    "*If you are sure that something is not 100% correct with the assignment/solution, please leave your feedback via the mentioned webform ↑*\n",
    "\n",
    "-----"
   ]
  },
  {
   "cell_type": "code",
   "execution_count": 2,
   "metadata": {
    "ExecuteTime": {
     "end_time": "2023-07-14T18:34:32.512826Z",
     "start_time": "2023-07-14T18:34:32.436978Z"
    }
   },
   "outputs": [],
   "source": [
    "from pathlib import Path\n",
    "\n",
    "import pandas as pd\n",
    "import numpy as np"
   ]
  },
  {
   "cell_type": "code",
   "execution_count": 3,
   "metadata": {
    "ExecuteTime": {
     "end_time": "2023-07-14T18:34:32.513641Z",
     "start_time": "2023-07-14T18:34:32.441875Z"
    }
   },
   "outputs": [],
   "source": [
    "PATH_TO_DATA = Path(\"../../_static/data/assignment1\")"
   ]
  },
  {
   "cell_type": "code",
   "execution_count": 4,
   "metadata": {
    "ExecuteTime": {
     "end_time": "2023-07-14T18:34:32.989268Z",
     "start_time": "2023-07-14T18:34:32.446111Z"
    }
   },
   "outputs": [
    {
     "data": {
      "text/plain": "                        Name Sex   Age  Height  Weight            Team  NOC  \\\nID                                                                            \n1                  A Dijiang   M  24.0   180.0    80.0           China  CHN   \n2                   A Lamusi   M  23.0   170.0    60.0           China  CHN   \n3        Gunnar Nielsen Aaby   M  24.0     NaN     NaN         Denmark  DEN   \n4       Edgar Lindenau Aabye   M  34.0     NaN     NaN  Denmark/Sweden  DEN   \n5   Christine Jacoba Aaftink   F  21.0   185.0    82.0     Netherlands  NED   \n\n          Games  Year  Season       City          Sport  \\\nID                                                        \n1   1992 Summer  1992  Summer  Barcelona     Basketball   \n2   2012 Summer  2012  Summer     London           Judo   \n3   1920 Summer  1920  Summer  Antwerpen       Football   \n4   1900 Summer  1900  Summer      Paris     Tug-Of-War   \n5   1988 Winter  1988  Winter    Calgary  Speed Skating   \n\n                               Event Medal  \nID                                          \n1        Basketball Men's Basketball   NaN  \n2       Judo Men's Extra-Lightweight   NaN  \n3            Football Men's Football   NaN  \n4        Tug-Of-War Men's Tug-Of-War  Gold  \n5   Speed Skating Women's 500 metres   NaN  ",
      "text/html": "<div>\n<style scoped>\n    .dataframe tbody tr th:only-of-type {\n        vertical-align: middle;\n    }\n\n    .dataframe tbody tr th {\n        vertical-align: top;\n    }\n\n    .dataframe thead th {\n        text-align: right;\n    }\n</style>\n<table border=\"1\" class=\"dataframe\">\n  <thead>\n    <tr style=\"text-align: right;\">\n      <th></th>\n      <th>Name</th>\n      <th>Sex</th>\n      <th>Age</th>\n      <th>Height</th>\n      <th>Weight</th>\n      <th>Team</th>\n      <th>NOC</th>\n      <th>Games</th>\n      <th>Year</th>\n      <th>Season</th>\n      <th>City</th>\n      <th>Sport</th>\n      <th>Event</th>\n      <th>Medal</th>\n    </tr>\n    <tr>\n      <th>ID</th>\n      <th></th>\n      <th></th>\n      <th></th>\n      <th></th>\n      <th></th>\n      <th></th>\n      <th></th>\n      <th></th>\n      <th></th>\n      <th></th>\n      <th></th>\n      <th></th>\n      <th></th>\n      <th></th>\n    </tr>\n  </thead>\n  <tbody>\n    <tr>\n      <th>1</th>\n      <td>A Dijiang</td>\n      <td>M</td>\n      <td>24.0</td>\n      <td>180.0</td>\n      <td>80.0</td>\n      <td>China</td>\n      <td>CHN</td>\n      <td>1992 Summer</td>\n      <td>1992</td>\n      <td>Summer</td>\n      <td>Barcelona</td>\n      <td>Basketball</td>\n      <td>Basketball Men's Basketball</td>\n      <td>NaN</td>\n    </tr>\n    <tr>\n      <th>2</th>\n      <td>A Lamusi</td>\n      <td>M</td>\n      <td>23.0</td>\n      <td>170.0</td>\n      <td>60.0</td>\n      <td>China</td>\n      <td>CHN</td>\n      <td>2012 Summer</td>\n      <td>2012</td>\n      <td>Summer</td>\n      <td>London</td>\n      <td>Judo</td>\n      <td>Judo Men's Extra-Lightweight</td>\n      <td>NaN</td>\n    </tr>\n    <tr>\n      <th>3</th>\n      <td>Gunnar Nielsen Aaby</td>\n      <td>M</td>\n      <td>24.0</td>\n      <td>NaN</td>\n      <td>NaN</td>\n      <td>Denmark</td>\n      <td>DEN</td>\n      <td>1920 Summer</td>\n      <td>1920</td>\n      <td>Summer</td>\n      <td>Antwerpen</td>\n      <td>Football</td>\n      <td>Football Men's Football</td>\n      <td>NaN</td>\n    </tr>\n    <tr>\n      <th>4</th>\n      <td>Edgar Lindenau Aabye</td>\n      <td>M</td>\n      <td>34.0</td>\n      <td>NaN</td>\n      <td>NaN</td>\n      <td>Denmark/Sweden</td>\n      <td>DEN</td>\n      <td>1900 Summer</td>\n      <td>1900</td>\n      <td>Summer</td>\n      <td>Paris</td>\n      <td>Tug-Of-War</td>\n      <td>Tug-Of-War Men's Tug-Of-War</td>\n      <td>Gold</td>\n    </tr>\n    <tr>\n      <th>5</th>\n      <td>Christine Jacoba Aaftink</td>\n      <td>F</td>\n      <td>21.0</td>\n      <td>185.0</td>\n      <td>82.0</td>\n      <td>Netherlands</td>\n      <td>NED</td>\n      <td>1988 Winter</td>\n      <td>1988</td>\n      <td>Winter</td>\n      <td>Calgary</td>\n      <td>Speed Skating</td>\n      <td>Speed Skating Women's 500 metres</td>\n      <td>NaN</td>\n    </tr>\n  </tbody>\n</table>\n</div>"
     },
     "execution_count": 4,
     "metadata": {},
     "output_type": "execute_result"
    }
   ],
   "source": [
    "df = pd.read_csv(PATH_TO_DATA / \"athlete_events.csv\", index_col=\"ID\")\n",
    "df.head()"
   ]
  },
  {
   "cell_type": "markdown",
   "metadata": {},
   "source": [
    " The dataset has the following features:\n",
    "\n",
    "- __ID__ – Unique number for each athlete\n",
    "- __Name__ – Athlete's name\n",
    "- __Sex__ – M or F\n",
    "- __Age__ – Integer\n",
    "- __Height__ – In centimeters\n",
    "- __Weight__ – In kilograms\n",
    "- __Team__ – Team name\n",
    "- __NOC__ – National Olympic Committee 3-letter code\n",
    "- __Games__ – Year and season\n",
    "- __Year__ – Integer\n",
    "- __Season__ – Summer or Winter\n",
    "- __City__ – Host city\n",
    "- __Sport__ – Sport\n",
    "- __Event__ – Event\n",
    "- __Medal__ – Gold, Silver, Bronze, or NA"
   ]
  },
  {
   "cell_type": "markdown",
   "metadata": {},
   "source": [
    "**<font color='red'>Question 1.</font> How old were the youngest male and female participants of the 1992 Olympics?**\n",
    "\n",
    "- 16 and 15\n",
    "- 14 and 13 \n",
    "- 13 and 11\n",
    "- 11 and 12"
   ]
  },
  {
   "cell_type": "code",
   "execution_count": 5,
   "outputs": [
    {
     "name": "stdout",
     "output_type": "stream",
     "text": [
      "The youngest male is 11 and the youngest female is 12\n"
     ]
    }
   ],
   "source": [
    "youngest_female = min(df[\"Age\"].loc[(df[\"Sex\"] == \"F\") & (df[\"Year\"] == 1992)])\n",
    "youngest_male = min(df[\"Age\"].loc[(df[\"Sex\"] == \"M\") & (df[\"Year\"] == 1992)])\n",
    "\n",
    "print(f\"The youngest male is {int(youngest_male)} and the youngest female is {int(youngest_female)}\")"
   ],
   "metadata": {
    "collapsed": false,
    "ExecuteTime": {
     "end_time": "2023-07-14T18:34:33.048338Z",
     "start_time": "2023-07-14T18:34:32.988622Z"
    }
   }
  },
  {
   "cell_type": "markdown",
   "metadata": {},
   "source": [
    "**<font color='red'>Question 2.</font> What was the percentage of male basketball players among all the male participants of the 2012 Olympics? Round the answer to the first decimal.**\n",
    "\n",
    "*Hint:* drop duplicate athletes where necessary to count each athlete just once. This applies to other questions as well.\n",
    "\n",
    "- 0.2\n",
    "- 1.5 \n",
    "- 2.5\n",
    "- 7.7"
   ]
  },
  {
   "cell_type": "code",
   "execution_count": 6,
   "metadata": {
    "ExecuteTime": {
     "end_time": "2023-07-14T18:34:33.072690Z",
     "start_time": "2023-07-14T18:34:33.021755Z"
    }
   },
   "outputs": [
    {
     "name": "stdout",
     "output_type": "stream",
     "text": [
      "The percentage of male basketball players among all the male participants of the 2012 Olympics is 2.5\n"
     ]
    }
   ],
   "source": [
    "q = '(Year == 2012) & (Sex == \"M\")'\n",
    "\n",
    "sportsmen_count_2012 = df.query(q).drop_duplicates(subset=\"Name\")\n",
    "basketball_count_2012 = df.query(q).query('Sport == \"Basketball\"').drop_duplicates(subset=\"Name\")\n",
    "\n",
    "percentage_backetball_2012 = (len(basketball_count_2012) / len(sportsmen_count_2012)) * 100\n",
    "\n",
    "print(\n",
    "    f\"The percentage of male basketball players among all the male participants of the 2012 Olympics is {round(percentage_backetball_2012, 1)}\")"
   ]
  },
  {
   "cell_type": "markdown",
   "metadata": {},
   "source": [
    "**<font color='red'>Question 3.</font> What are the mean and standard deviation of height for female tennis players who participated in the 2000 Olympics? Round the answer to the first decimal.**\n",
    "\n",
    "- 171.8 and 6.5\n",
    "- 179.4 and 10\n",
    "- 180.7 and 6.7\n",
    "- 182.4 and 9.1 "
   ]
  },
  {
   "cell_type": "code",
   "execution_count": 7,
   "metadata": {
    "ExecuteTime": {
     "end_time": "2023-07-14T18:34:33.072978Z",
     "start_time": "2023-07-14T18:34:33.050836Z"
    }
   },
   "outputs": [],
   "source": [
    "def standard_deviation(x) -> float:\n",
    "    \"\"\"\n",
    "    This function calculates the standard deviation\n",
    "    :param x:\n",
    "    :return:\n",
    "    \"\"\"\n",
    "    l = []\n",
    "    for i in x:\n",
    "        l.append((i - mean(x)) ** 2)\n",
    "    return np.sqrt(sum(l) / (len(x) - 1))"
   ]
  },
  {
   "cell_type": "code",
   "execution_count": 8,
   "outputs": [],
   "source": [
    "def mean(x) -> float:\n",
    "    \"\"\"\n",
    "    This function calculates the standard deviation\n",
    "    :param x:\n",
    "    :return:\n",
    "    \"\"\"\n",
    "    return np.sum(x) / len(x)"
   ],
   "metadata": {
    "collapsed": false,
    "ExecuteTime": {
     "end_time": "2023-07-14T18:34:33.138645Z",
     "start_time": "2023-07-14T18:34:33.054940Z"
    }
   }
  },
  {
   "cell_type": "code",
   "execution_count": 9,
   "outputs": [
    {
     "name": "stdout",
     "output_type": "stream",
     "text": [
      "The mean of height for female tennis player in the 2000 Olympics is 171.8 and the standard deviation is 6.5\n"
     ]
    }
   ],
   "source": [
    "q = 'Year == 2000 & Sex == \"F\" & Sport == \"Tennis\"'\n",
    "sportswomen_tennis_2000 = df.query(q)[\"Height\"].dropna()\n",
    "\n",
    "print(\n",
    "    f\"The mean of height for female tennis player in the 2000 Olympics is {round(mean(sportswomen_tennis_2000), 1)} and the standard deviation is {round(standard_deviation(sportswomen_tennis_2000), 1)}\")"
   ],
   "metadata": {
    "collapsed": false,
    "ExecuteTime": {
     "end_time": "2023-07-14T18:34:33.608371Z",
     "start_time": "2023-07-14T18:34:33.060466Z"
    }
   }
  },
  {
   "cell_type": "markdown",
   "metadata": {},
   "source": [
    "**<font color='red'>Question 4.</font> Find the heaviest athlete among 2006 Olympics participants. What sport did he or she do?**\n",
    "\n",
    "- Judo\n",
    "- Bobsleigh \n",
    "- Skeleton\n",
    "- Boxing"
   ]
  },
  {
   "cell_type": "code",
   "execution_count": 10,
   "metadata": {
    "ExecuteTime": {
     "end_time": "2023-07-14T18:34:33.608923Z",
     "start_time": "2023-07-14T18:34:33.078240Z"
    }
   },
   "outputs": [
    {
     "name": "stdout",
     "output_type": "stream",
     "text": [
      "The heaviest atlehete among 2006 Olympics participants does Skeleton\n"
     ]
    }
   ],
   "source": [
    "max_weight = max(df.query('Year == 2006')[\"Weight\"])\n",
    "print(\n",
    "    f\"The heaviest atlehete among 2006 Olympics participants does {df['Sport'].loc[(df['Weight'] == max_weight) & (df['Year'] == 2006)].values[0]}\")"
   ]
  },
  {
   "cell_type": "markdown",
   "metadata": {},
   "source": [
    "**<font color='red'>Question 5.</font> How many times did John Aalberg participate in the Olympics held in different years?**\n",
    "\n",
    "- 0\n",
    "- 1 \n",
    "- 2\n",
    "- 3 "
   ]
  },
  {
   "cell_type": "code",
   "execution_count": 11,
   "metadata": {
    "ExecuteTime": {
     "end_time": "2023-07-14T18:34:33.609224Z",
     "start_time": "2023-07-14T18:34:33.105091Z"
    }
   },
   "outputs": [
    {
     "name": "stdout",
     "output_type": "stream",
     "text": [
      "John Aalberg has participated 2 times in the Olympics\n"
     ]
    }
   ],
   "source": [
    "print(\n",
    "    f'John Aalberg has participated {len(df.loc[df[\"Name\"] == \"John Aalberg\"].drop_duplicates(\"Year\"))} times in the Olympics')"
   ]
  },
  {
   "cell_type": "markdown",
   "metadata": {},
   "source": [
    "**<font color='red'>Question 6.</font> How many gold medals in tennis did the Switzerland team win at the 2008 Olympics?**\n",
    "\n",
    "- 0\n",
    "- 1 \n",
    "- 2\n",
    "- 3 "
   ]
  },
  {
   "cell_type": "code",
   "execution_count": 27,
   "metadata": {
    "ExecuteTime": {
     "end_time": "2023-07-14T18:44:04.034293Z",
     "start_time": "2023-07-14T18:44:04.010330Z"
    }
   },
   "outputs": [
    {
     "name": "stdout",
     "output_type": "stream",
     "text": [
      "The Switzerland team won 3 medals at the 2008 Olympics\n"
     ]
    }
   ],
   "source": [
    "print(\"The Switzerland team won\", len(df.query(\"Year == 2008 & Team == 'Switzerland' & Medal == 'Gold'\").values),\n",
    "      \"medals at the 2008 Olympics\")"
   ]
  },
  {
   "cell_type": "markdown",
   "metadata": {},
   "source": [
    "**<font color='red'>Question 7.</font>  Is it true that Spain won fewer medals than Italy at the 2016 Olympics? Do not consider NaN values in the _Medal_ column.**\n",
    "\n",
    "- Yes\n",
    "- No"
   ]
  },
  {
   "cell_type": "code",
   "execution_count": 13,
   "metadata": {
    "ExecuteTime": {
     "end_time": "2023-07-14T18:34:33.610571Z",
     "start_time": "2023-07-14T18:34:33.129704Z"
    }
   },
   "outputs": [
    {
     "name": "stdout",
     "output_type": "stream",
     "text": [
      "Yes\n"
     ]
    }
   ],
   "source": [
    "spain_2016 = df.query(\"Year == 2016 & Team == 'Spain'\")[\"Medal\"].dropna()\n",
    "italy_2016 = df.query(\"Year == 2016 & Team == 'Italy'\")[\"Medal\"].dropna()\n",
    "\n",
    "print(\"Yes\" if len(spain_2016) < len(italy_2016) else \"No\")"
   ]
  },
  {
   "cell_type": "markdown",
   "metadata": {},
   "source": [
    "**<font color='red'>Question 8.</font> What are the least and most common age groups among the participants of the 2008 Olympics?**\n",
    "- [45-55] and [25-35) correspondingly\n",
    "- [45-55] and [15-25) correspondingly\n",
    "- [35-45) and [25-35) correspondingly\n",
    "- [45-55] and [35-45) correspondingly"
   ]
  },
  {
   "cell_type": "code",
   "execution_count": 14,
   "metadata": {
    "ExecuteTime": {
     "end_time": "2023-07-14T18:34:33.611156Z",
     "start_time": "2023-07-14T18:34:33.153148Z"
    }
   },
   "outputs": [
    {
     "name": "stdout",
     "output_type": "stream",
     "text": [
      "[15, 25):  4776\n",
      "[25, 35):  5373\n",
      "[35, 45):  630\n",
      "[45, 55]:  78\n"
     ]
    }
   ],
   "source": [
    "participants_2008 = df[df.Year == 2008].drop_duplicates(subset=\"Name\")\n",
    "print(\"[15, 25): \", len(participants_2008.query(\"(Age >= 15) & (Age < 25)\")))\n",
    "print(\"[25, 35): \", len(participants_2008.query(\"(Age >= 25) & (Age < 35)\")))\n",
    "print(\"[35, 45): \", len(participants_2008.query(\"(Age >= 35) & (Age < 45)\")))\n",
    "print(\"[45, 55]: \", len(participants_2008.query(\"(Age >= 45) & (Age <= 55)\")))"
   ]
  },
  {
   "cell_type": "markdown",
   "metadata": {},
   "source": [
    "**<font color='red'>Question 9.</font> Is it true that there were Summer Olympics held in Atlanta? Is it true that there were Winter Olympics held in Squaw Valley?**\n",
    "\n",
    "- Yes, Yes\n",
    "- Yes, No\n",
    "- No, Yes \n",
    "- No, No "
   ]
  },
  {
   "cell_type": "code",
   "execution_count": 15,
   "metadata": {
    "ExecuteTime": {
     "end_time": "2023-07-14T18:34:33.612794Z",
     "start_time": "2023-07-14T18:34:33.177260Z"
    }
   },
   "outputs": [
    {
     "name": "stdout",
     "output_type": "stream",
     "text": [
      "There have been Summer Olympics held in Atlanta\n",
      "There have been Winter Olympics held in Squaw Valley\n"
     ]
    }
   ],
   "source": [
    "atlanta_summer = len(df.query(\"Season == 'Summer' & City == 'Atlanta'\"))\n",
    "squaw_valley_winter = len(df.query(\"Season == 'Winter' & City == 'Squaw Valley'\"))\n",
    "\n",
    "print(\"There have been Summer Olympics held in Atlanta\" if atlanta_summer else \"No, there have not been Summer Olympics in Atlanta\")\n",
    "print(\"There have been Winter Olympics held in Squaw Valley\" if squaw_valley_winter else \"No, there have not been Winter Olympics held in Squaw Valley\")"
   ]
  },
  {
   "cell_type": "markdown",
   "metadata": {},
   "source": [
    "**<font color='red'>Question 10.</font> What is the absolute difference between the number of unique sports at the 1994 Olympics and 2002 Olympics?**\n",
    "\n",
    "- 3\n",
    "- 10\n",
    "- 15 \n",
    "- 27 "
   ]
  },
  {
   "cell_type": "code",
   "execution_count": 25,
   "metadata": {
    "ExecuteTime": {
     "end_time": "2023-07-14T18:37:14.259078Z",
     "start_time": "2023-07-14T18:37:14.230267Z"
    }
   },
   "outputs": [
    {
     "data": {
      "text/plain": "3"
     },
     "execution_count": 25,
     "metadata": {},
     "output_type": "execute_result"
    }
   ],
   "source": [
    "abs(len(pd.unique(df.query(\"Year == 1994\")[\"Sport\"])) - len(pd.unique(df.query(\"Year == 2002\")[\"Sport\"])))"
   ]
  }
 ],
 "metadata": {
  "kernelspec": {
   "display_name": "Python 3 (ipykernel)",
   "language": "python",
   "name": "python3"
  },
  "language_info": {
   "codemirror_mode": {
    "name": "ipython",
    "version": 3
   },
   "file_extension": ".py",
   "mimetype": "text/x-python",
   "name": "python",
   "nbconvert_exporter": "python",
   "pygments_lexer": "ipython3",
   "version": "3.10.4"
  }
 },
 "nbformat": 4,
 "nbformat_minor": 2
}
