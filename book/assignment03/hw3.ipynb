{
 "cells": [
  {
   "cell_type": "code",
   "execution_count": 4,
   "id": "601a86a5",
   "metadata": {
    "ExecuteTime": {
     "end_time": "2023-07-01T16:41:46.631349Z",
     "start_time": "2023-07-01T16:41:46.629245Z"
    }
   },
   "outputs": [],
   "source": [
    "import pandas as pd"
   ]
  },
  {
   "cell_type": "markdown",
   "id": "6dd4ece0",
   "metadata": {},
   "source": [
    "Загрузим табличку с нашими данными про длительность поездок такси! "
   ]
  },
  {
   "cell_type": "code",
   "execution_count": 5,
   "id": "e525fe48",
   "metadata": {
    "ExecuteTime": {
     "end_time": "2023-07-01T16:41:49.958569Z",
     "start_time": "2023-07-01T16:41:47.775377Z"
    }
   },
   "outputs": [
    {
     "data": {
      "text/plain": "           vendor_id      pickup_datetime  passenger_count  \\\nid                                                           \nid2875421          1  2016-03-14 17:24:55       930.399753   \nid2377394          0  2016-06-12 00:43:35       930.399753   \nid3858529          1  2016-01-19 11:35:24       930.399753   \nid3504673          1  2016-04-06 19:32:31       930.399753   \nid2181028          1  2016-03-26 13:30:55       930.399753   \n\n           store_and_fwd_flag  trip_duration  distance_km  \nid                                                         \nid2875421                   0          455.0     2.012516  \nid2377394                   0          663.0     3.070207  \nid3858529                   0         2124.0     5.541026  \nid3504673                   0          429.0     2.843521  \nid2181028                   0          435.0     2.481962  ",
      "text/html": "<div>\n<style scoped>\n    .dataframe tbody tr th:only-of-type {\n        vertical-align: middle;\n    }\n\n    .dataframe tbody tr th {\n        vertical-align: top;\n    }\n\n    .dataframe thead th {\n        text-align: right;\n    }\n</style>\n<table border=\"1\" class=\"dataframe\">\n  <thead>\n    <tr style=\"text-align: right;\">\n      <th></th>\n      <th>vendor_id</th>\n      <th>pickup_datetime</th>\n      <th>passenger_count</th>\n      <th>store_and_fwd_flag</th>\n      <th>trip_duration</th>\n      <th>distance_km</th>\n    </tr>\n    <tr>\n      <th>id</th>\n      <th></th>\n      <th></th>\n      <th></th>\n      <th></th>\n      <th></th>\n      <th></th>\n    </tr>\n  </thead>\n  <tbody>\n    <tr>\n      <th>id2875421</th>\n      <td>1</td>\n      <td>2016-03-14 17:24:55</td>\n      <td>930.399753</td>\n      <td>0</td>\n      <td>455.0</td>\n      <td>2.012516</td>\n    </tr>\n    <tr>\n      <th>id2377394</th>\n      <td>0</td>\n      <td>2016-06-12 00:43:35</td>\n      <td>930.399753</td>\n      <td>0</td>\n      <td>663.0</td>\n      <td>3.070207</td>\n    </tr>\n    <tr>\n      <th>id3858529</th>\n      <td>1</td>\n      <td>2016-01-19 11:35:24</td>\n      <td>930.399753</td>\n      <td>0</td>\n      <td>2124.0</td>\n      <td>5.541026</td>\n    </tr>\n    <tr>\n      <th>id3504673</th>\n      <td>1</td>\n      <td>2016-04-06 19:32:31</td>\n      <td>930.399753</td>\n      <td>0</td>\n      <td>429.0</td>\n      <td>2.843521</td>\n    </tr>\n    <tr>\n      <th>id2181028</th>\n      <td>1</td>\n      <td>2016-03-26 13:30:55</td>\n      <td>930.399753</td>\n      <td>0</td>\n      <td>435.0</td>\n      <td>2.481962</td>\n    </tr>\n  </tbody>\n</table>\n</div>"
     },
     "execution_count": 5,
     "metadata": {},
     "output_type": "execute_result"
    }
   ],
   "source": [
    "df = pd.read_csv('taxi_dataset.csv', index_col=0)\n",
    "\n",
    "df.head()"
   ]
  },
  {
   "cell_type": "markdown",
   "id": "eae8224b",
   "metadata": {},
   "source": [
    "Попробуем построить модель Линейной Регрессии!\n",
    "\n",
    "В качестве Выборки используйте таргетную колонку (*trip_duration*) и все признаки, кроме времени начала заказа (*pickup_datetime*)\n",
    "\n",
    "Для начала воспользуемся \"коробочным решением\". Для этого создайте переменную model, положите в нее класс **LinearRegression** из модуля **linear_model** библиотеки **sklearn**.\n",
    "\n",
    "Далее воспользуйтесь методом **fit**, положите в него через запятую: массив **X**, состоящий из признаков объектов (можно pandas dataframe'ом, а можно numpy-массивом), и массив **Y** с таргетами."
   ]
  },
  {
   "cell_type": "code",
   "execution_count": 6,
   "id": "1d57966d",
   "metadata": {
    "ExecuteTime": {
     "end_time": "2023-07-01T16:42:00.857340Z",
     "start_time": "2023-07-01T16:41:58.575293Z"
    }
   },
   "outputs": [],
   "source": [
    "from sklearn.linear_model import LinearRegression"
   ]
  },
  {
   "cell_type": "code",
   "execution_count": 7,
   "id": "2825524a",
   "metadata": {
    "ExecuteTime": {
     "end_time": "2023-07-01T16:42:09.075485Z",
     "start_time": "2023-07-01T16:42:09.049085Z"
    }
   },
   "outputs": [],
   "source": [
    "X = df.drop(columns=[\"trip_duration\", \"pickup_datetime\"])\n",
    "y = df[\"trip_duration\"]"
   ]
  },
  {
   "cell_type": "code",
   "execution_count": 9,
   "id": "23cbd5ae",
   "metadata": {
    "ExecuteTime": {
     "end_time": "2023-07-01T16:42:19.351740Z",
     "start_time": "2023-07-01T16:42:19.135797Z"
    }
   },
   "outputs": [
    {
     "data": {
      "text/plain": "LinearRegression()",
      "text/html": "<style>#sk-container-id-1 {color: black;}#sk-container-id-1 pre{padding: 0;}#sk-container-id-1 div.sk-toggleable {background-color: white;}#sk-container-id-1 label.sk-toggleable__label {cursor: pointer;display: block;width: 100%;margin-bottom: 0;padding: 0.3em;box-sizing: border-box;text-align: center;}#sk-container-id-1 label.sk-toggleable__label-arrow:before {content: \"▸\";float: left;margin-right: 0.25em;color: #696969;}#sk-container-id-1 label.sk-toggleable__label-arrow:hover:before {color: black;}#sk-container-id-1 div.sk-estimator:hover label.sk-toggleable__label-arrow:before {color: black;}#sk-container-id-1 div.sk-toggleable__content {max-height: 0;max-width: 0;overflow: hidden;text-align: left;background-color: #f0f8ff;}#sk-container-id-1 div.sk-toggleable__content pre {margin: 0.2em;color: black;border-radius: 0.25em;background-color: #f0f8ff;}#sk-container-id-1 input.sk-toggleable__control:checked~div.sk-toggleable__content {max-height: 200px;max-width: 100%;overflow: auto;}#sk-container-id-1 input.sk-toggleable__control:checked~label.sk-toggleable__label-arrow:before {content: \"▾\";}#sk-container-id-1 div.sk-estimator input.sk-toggleable__control:checked~label.sk-toggleable__label {background-color: #d4ebff;}#sk-container-id-1 div.sk-label input.sk-toggleable__control:checked~label.sk-toggleable__label {background-color: #d4ebff;}#sk-container-id-1 input.sk-hidden--visually {border: 0;clip: rect(1px 1px 1px 1px);clip: rect(1px, 1px, 1px, 1px);height: 1px;margin: -1px;overflow: hidden;padding: 0;position: absolute;width: 1px;}#sk-container-id-1 div.sk-estimator {font-family: monospace;background-color: #f0f8ff;border: 1px dotted black;border-radius: 0.25em;box-sizing: border-box;margin-bottom: 0.5em;}#sk-container-id-1 div.sk-estimator:hover {background-color: #d4ebff;}#sk-container-id-1 div.sk-parallel-item::after {content: \"\";width: 100%;border-bottom: 1px solid gray;flex-grow: 1;}#sk-container-id-1 div.sk-label:hover label.sk-toggleable__label {background-color: #d4ebff;}#sk-container-id-1 div.sk-serial::before {content: \"\";position: absolute;border-left: 1px solid gray;box-sizing: border-box;top: 0;bottom: 0;left: 50%;z-index: 0;}#sk-container-id-1 div.sk-serial {display: flex;flex-direction: column;align-items: center;background-color: white;padding-right: 0.2em;padding-left: 0.2em;position: relative;}#sk-container-id-1 div.sk-item {position: relative;z-index: 1;}#sk-container-id-1 div.sk-parallel {display: flex;align-items: stretch;justify-content: center;background-color: white;position: relative;}#sk-container-id-1 div.sk-item::before, #sk-container-id-1 div.sk-parallel-item::before {content: \"\";position: absolute;border-left: 1px solid gray;box-sizing: border-box;top: 0;bottom: 0;left: 50%;z-index: -1;}#sk-container-id-1 div.sk-parallel-item {display: flex;flex-direction: column;z-index: 1;position: relative;background-color: white;}#sk-container-id-1 div.sk-parallel-item:first-child::after {align-self: flex-end;width: 50%;}#sk-container-id-1 div.sk-parallel-item:last-child::after {align-self: flex-start;width: 50%;}#sk-container-id-1 div.sk-parallel-item:only-child::after {width: 0;}#sk-container-id-1 div.sk-dashed-wrapped {border: 1px dashed gray;margin: 0 0.4em 0.5em 0.4em;box-sizing: border-box;padding-bottom: 0.4em;background-color: white;}#sk-container-id-1 div.sk-label label {font-family: monospace;font-weight: bold;display: inline-block;line-height: 1.2em;}#sk-container-id-1 div.sk-label-container {text-align: center;}#sk-container-id-1 div.sk-container {/* jupyter's `normalize.less` sets `[hidden] { display: none; }` but bootstrap.min.css set `[hidden] { display: none !important; }` so we also need the `!important` here to be able to override the default hidden behavior on the sphinx rendered scikit-learn.org. See: https://github.com/scikit-learn/scikit-learn/issues/21755 */display: inline-block !important;position: relative;}#sk-container-id-1 div.sk-text-repr-fallback {display: none;}</style><div id=\"sk-container-id-1\" class=\"sk-top-container\"><div class=\"sk-text-repr-fallback\"><pre>LinearRegression()</pre><b>In a Jupyter environment, please rerun this cell to show the HTML representation or trust the notebook. <br />On GitHub, the HTML representation is unable to render, please try loading this page with nbviewer.org.</b></div><div class=\"sk-container\" hidden><div class=\"sk-item\"><div class=\"sk-estimator sk-toggleable\"><input class=\"sk-toggleable__control sk-hidden--visually\" id=\"sk-estimator-id-1\" type=\"checkbox\" checked><label for=\"sk-estimator-id-1\" class=\"sk-toggleable__label sk-toggleable__label-arrow\">LinearRegression</label><div class=\"sk-toggleable__content\"><pre>LinearRegression()</pre></div></div></div></div></div>"
     },
     "execution_count": 9,
     "metadata": {},
     "output_type": "execute_result"
    }
   ],
   "source": [
    "model = LinearRegression()\n",
    "model.fit(X, y)"
   ]
  },
  {
   "cell_type": "markdown",
   "id": "82b2944c",
   "metadata": {},
   "source": [
    "Чтобы посмотреть на значения полученных коэффициентов модели, следует обратиться к атрибуту **coef_** класса линейной регрессии. Для просмотра свободного веса, к атрибуту **intercept_** "
   ]
  },
  {
   "cell_type": "code",
   "execution_count": 17,
   "id": "7b6f2009",
   "metadata": {
    "ExecuteTime": {
     "end_time": "2023-07-01T16:44:24.461772Z",
     "start_time": "2023-07-01T16:44:24.426493Z"
    }
   },
   "outputs": [],
   "source": [
    "coef = model.coef_\n",
    "intercept = model.intercept_"
   ]
  },
  {
   "cell_type": "code",
   "execution_count": 18,
   "id": "d2716f7c",
   "metadata": {
    "ExecuteTime": {
     "end_time": "2023-07-01T16:44:24.915357Z",
     "start_time": "2023-07-01T16:44:24.882868Z"
    }
   },
   "outputs": [
    {
     "name": "stdout",
     "output_type": "stream",
     "text": [
      "The coefficients of the model are 201.484, 0.393, 147.387, 44.623\n",
      "The intercept of the model is 301.624\n"
     ]
    }
   ],
   "source": [
    "print(f\"The coefficients of the model are {', '.join([str(round(i, 3)) for i in coef])}\")\n",
    "print(f\"The intercept of the model is {round(intercept, 3)}\")"
   ]
  },
  {
   "cell_type": "markdown",
   "id": "b699ffaf",
   "metadata": {},
   "source": [
    "Теперь реализуйте функцию LinearRegressionByMatrix, которая будет принимать на вход 3 параметра:\n",
    "\n",
    "Матрицу объект-признак **(X)**, вектор с ответами **(Y)**, булевый параметр **fit_intercept**, цель которого - добавить константный признак (состоящий из единичек), если True, и ничего не делать, если False.\n",
    "\n",
    "Функция должна вернуть одномерный np.array объект с оцененными **$\\beta_1, ..., \\beta_n, \\beta_0$**\n",
    "\n",
    "Реализуйте решение через аналитическое решение в матрицах из лекции и практики:\n",
    "\n",
    "$$\n",
    "\\beta^* = (X^T \\cdot X)^{-1} \\cdot X^T \\cdot Y\n",
    "$$"
   ]
  },
  {
   "cell_type": "code",
   "execution_count": 19,
   "id": "e16a9233",
   "metadata": {
    "ExecuteTime": {
     "end_time": "2023-07-01T16:52:41.296156Z",
     "start_time": "2023-07-01T16:52:41.213552Z"
    }
   },
   "outputs": [],
   "source": [
    "import numpy as np\n",
    "\n",
    "\n",
    "def LinearRegressionByMatrix(X: np.array, Y: np.array, fit_intercept: bool = True):\n",
    "    \"\"\"\n",
    "    :param X: матрица объектов\n",
    "    :param Y: вектор (матрица с 1 столбцом) ответов\n",
    "    :param fit_intercept: добавить ли константную переменную в данные?\n",
    "\n",
    "    :return: одномерный numpy-array с полученными коэффициентами beta\n",
    "    \"\"\"\n",
    "\n",
    "    X = np.c_[X, np.ones(X.shape[0])]\n",
    "    return np.dot(np.dot(np.linalg.inv(np.dot(X.T, X)), X.T), Y)"
   ]
  },
  {
   "cell_type": "code",
   "execution_count": 20,
   "id": "e21ad95c",
   "metadata": {
    "ExecuteTime": {
     "end_time": "2023-07-01T16:52:43.088032Z",
     "start_time": "2023-07-01T16:52:43.003782Z"
    }
   },
   "outputs": [
    {
     "data": {
      "text/plain": "array([201.48355138,   0.39255178, 147.38701156,  44.62299718,\n       301.62412993])"
     },
     "execution_count": 20,
     "metadata": {},
     "output_type": "execute_result"
    }
   ],
   "source": [
    "X_train = df.drop(['trip_duration', 'pickup_datetime'], axis=1).values\n",
    "Y_train = df['trip_duration'].values\n",
    "\n",
    "LinearRegressionByMatrix(X_train, Y_train)"
   ]
  },
  {
   "cell_type": "markdown",
   "id": "16cd1b7f",
   "metadata": {},
   "source": [
    "Получились ли коэффициенты такими же, как и в \"коробочном\" варианте?\n",
    "\n",
    "Имея коэффициенты модели, можно восстановить предсказания для каждого объекта!\n",
    "\n",
    "Сделайте это через операцию матричного произведения матрицы **X** и полученных коэффициентов (как результат работы *LinearRegressionByMatrix*)"
   ]
  },
  {
   "cell_type": "code",
   "execution_count": 22,
   "id": "61d27192",
   "metadata": {
    "ExecuteTime": {
     "end_time": "2023-07-01T16:53:42.748407Z",
     "start_time": "2023-07-01T16:53:42.552468Z"
    }
   },
   "outputs": [
    {
     "data": {
      "text/plain": "array([ 958.14228109,  803.85604957, 1115.5949386 , ..., 1226.45694736,\n        700.4159849 ,  843.88702965])"
     },
     "execution_count": 22,
     "metadata": {},
     "output_type": "execute_result"
    }
   ],
   "source": [
    "betas = LinearRegressionByMatrix(X_train, Y_train)\n",
    "\n",
    "np.dot(np.c_[X_train, np.ones(X_train.shape[0])], betas)"
   ]
  }
 ],
 "metadata": {
  "kernelspec": {
   "display_name": "Python 3 (ipykernel)",
   "language": "python",
   "name": "python3"
  },
  "language_info": {
   "codemirror_mode": {
    "name": "ipython",
    "version": 3
   },
   "file_extension": ".py",
   "mimetype": "text/x-python",
   "name": "python",
   "nbconvert_exporter": "python",
   "pygments_lexer": "ipython3",
   "version": "3.9.7"
  }
 },
 "nbformat": 4,
 "nbformat_minor": 5
}
