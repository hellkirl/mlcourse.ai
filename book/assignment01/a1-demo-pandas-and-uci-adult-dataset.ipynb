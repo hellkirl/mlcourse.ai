{
 "cells": [
  {
   "metadata": {
    "_uuid": "570fb89bb4f7838b1d0fdff70b2935790e5dbdbe"
   },
   "cell_type": "markdown",
   "source": [
    "<center>\n",
    "<img src=\"https://habrastorage.org/files/fd4/502/43d/fd450243dd604b81b9713213a247aa20.jpg\">\n",
    "    \n",
    "## [mlcourse.ai](mlcourse.ai) – Open Machine Learning Course \n",
    "\n",
    "<center>Author: [Yury Kashnitskiy](http://yorko.github.io) <br>\n",
    "Translated and edited by [Sergey Isaev](https://www.linkedin.com/in/isvforall/), [Artem Trunov](https://www.linkedin.com/in/datamove/), [Anastasia Manokhina](https://www.linkedin.com/in/anastasiamanokhina/), and [Yuanyuan Pao](https://www.linkedin.com/in/yuanyuanpao/) <br>All content is distributed under the [Creative Commons CC BY-NC-SA 4.0](https://creativecommons.org/licenses/by-nc-sa/4.0/) license."
   ]
  },
  {
   "metadata": {
    "_uuid": "998fc5f76227ab1df9460a7b05c508304b14b3a6"
   },
   "cell_type": "markdown",
   "source": [
    "# <center> Assignment #1 (demo)\n",
    "## <center>  Exploratory data analysis with Pandas\n"
   ]
  },
  {
   "metadata": {
    "_uuid": "89ef93231815456f4e0bc5dcc00b094aee800993"
   },
   "cell_type": "markdown",
   "source": [
    "**In this task you should use Pandas to answer a few questions about the [Adult](https://archive.ics.uci.edu/ml/datasets/Adult) dataset. (You don't have to download the data – it's already here). Choose the answers in the [web-form](https://docs.google.com/forms/d/1uY7MpI2trKx6FLWZte0uVh3ULV4Cm_tDud0VDFGCOKg). This is a demo version of an assignment, so by submitting the form, you'll see a link to the solution .ipynb file.**"
   ]
  },
  {
   "metadata": {
    "_uuid": "c322301ac858c748f8f80e63cf6f734fc70dde30"
   },
   "cell_type": "markdown",
   "source": [
    "Unique values of all features (for more information, please see the links above):\n",
    "- `age`: continuous.\n",
    "- `workclass`: Private, Self-emp-not-inc, Self-emp-inc, Federal-gov, Local-gov, State-gov, Without-pay, Never-worked.\n",
    "- `fnlwgt`: continuous.\n",
    "- `education`: Bachelors, Some-college, 11th, HS-grad, Prof-school, Assoc-acdm, Assoc-voc, 9th, 7th-8th, 12th, Masters, 1st-4th, 10th, Doctorate, 5th-6th, Preschool.\n",
    "- `education-num`: continuous.\n",
    "- `marital-status`: Married-civ-spouse, Divorced, Never-married, Separated, Widowed, Married-spouse-absent, Married-AF-spouse.\n",
    "- `occupation`: Tech-support, Craft-repair, Other-service, Sales, Exec-managerial, Prof-specialty, Handlers-cleaners, Machine-op-inspct, Adm-clerical, Farming-fishing, Transport-moving, Priv-house-serv, Protective-serv, Armed-Forces.\n",
    "- `relationship`: Wife, Own-child, Husband, Not-in-family, Other-relative, Unmarried.\n",
    "- `race`: White, Asian-Pac-Islander, Amer-Indian-Eskimo, Other, Black.\n",
    "- `sex`: Female, Male.\n",
    "- `capital-gain`: continuous.\n",
    "- `capital-loss`: continuous.\n",
    "- `hours-per-week`: continuous.\n",
    "- `native-country`: United-States, Cambodia, England, Puerto-Rico, Canada, Germany, Outlying-US(Guam-USVI-etc), India, Japan, Greece, South, China, Cuba, Iran, Honduras, Philippines, Italy, Poland, Jamaica, Vietnam, Mexico, Portugal, Ireland, France, Dominican-Republic, Laos, Ecuador, Taiwan, Haiti, Columbia, Hungary, Guatemala, Nicaragua, Scotland, Thailand, Yugoslavia, El-Salvador, Trinadad&Tobago, Peru, Hong, Holand-Netherlands.   \n",
    "- `salary`: >50K,<=50K"
   ]
  },
  {
   "metadata": {
    "collapsed": true,
    "trusted": true,
    "_uuid": "d3eb2411e23b7db11e4cbbb498a42752442a6f4c",
    "ExecuteTime": {
     "end_time": "2023-07-22T12:24:01.981668Z",
     "start_time": "2023-07-22T12:24:01.327208Z"
    }
   },
   "cell_type": "code",
   "source": [
    "import pandas as pd"
   ],
   "execution_count": 1,
   "outputs": []
  },
  {
   "metadata": {
    "trusted": true,
    "_uuid": "c5119d1b8151029b4ff57735c4279b795ae492a2",
    "collapsed": true,
    "ExecuteTime": {
     "end_time": "2023-07-22T12:24:02.049879Z",
     "start_time": "2023-07-22T12:24:01.982363Z"
    }
   },
   "cell_type": "code",
   "source": [
    "data = pd.read_csv(\"adult.data.csv\")\n",
    "data.head()"
   ],
   "execution_count": 2,
   "outputs": [
    {
     "data": {
      "text/plain": "   age         workclass  fnlwgt  education  education-num  \\\n0   39         State-gov   77516  Bachelors             13   \n1   50  Self-emp-not-inc   83311  Bachelors             13   \n2   38           Private  215646    HS-grad              9   \n3   53           Private  234721       11th              7   \n4   28           Private  338409  Bachelors             13   \n\n       marital-status         occupation   relationship   race     sex  \\\n0       Never-married       Adm-clerical  Not-in-family  White    Male   \n1  Married-civ-spouse    Exec-managerial        Husband  White    Male   \n2            Divorced  Handlers-cleaners  Not-in-family  White    Male   \n3  Married-civ-spouse  Handlers-cleaners        Husband  Black    Male   \n4  Married-civ-spouse     Prof-specialty           Wife  Black  Female   \n\n   capital-gain  capital-loss  hours-per-week native-country salary  \n0          2174             0              40  United-States  <=50K  \n1             0             0              13  United-States  <=50K  \n2             0             0              40  United-States  <=50K  \n3             0             0              40  United-States  <=50K  \n4             0             0              40           Cuba  <=50K  ",
      "text/html": "<div>\n<style scoped>\n    .dataframe tbody tr th:only-of-type {\n        vertical-align: middle;\n    }\n\n    .dataframe tbody tr th {\n        vertical-align: top;\n    }\n\n    .dataframe thead th {\n        text-align: right;\n    }\n</style>\n<table border=\"1\" class=\"dataframe\">\n  <thead>\n    <tr style=\"text-align: right;\">\n      <th></th>\n      <th>age</th>\n      <th>workclass</th>\n      <th>fnlwgt</th>\n      <th>education</th>\n      <th>education-num</th>\n      <th>marital-status</th>\n      <th>occupation</th>\n      <th>relationship</th>\n      <th>race</th>\n      <th>sex</th>\n      <th>capital-gain</th>\n      <th>capital-loss</th>\n      <th>hours-per-week</th>\n      <th>native-country</th>\n      <th>salary</th>\n    </tr>\n  </thead>\n  <tbody>\n    <tr>\n      <th>0</th>\n      <td>39</td>\n      <td>State-gov</td>\n      <td>77516</td>\n      <td>Bachelors</td>\n      <td>13</td>\n      <td>Never-married</td>\n      <td>Adm-clerical</td>\n      <td>Not-in-family</td>\n      <td>White</td>\n      <td>Male</td>\n      <td>2174</td>\n      <td>0</td>\n      <td>40</td>\n      <td>United-States</td>\n      <td>&lt;=50K</td>\n    </tr>\n    <tr>\n      <th>1</th>\n      <td>50</td>\n      <td>Self-emp-not-inc</td>\n      <td>83311</td>\n      <td>Bachelors</td>\n      <td>13</td>\n      <td>Married-civ-spouse</td>\n      <td>Exec-managerial</td>\n      <td>Husband</td>\n      <td>White</td>\n      <td>Male</td>\n      <td>0</td>\n      <td>0</td>\n      <td>13</td>\n      <td>United-States</td>\n      <td>&lt;=50K</td>\n    </tr>\n    <tr>\n      <th>2</th>\n      <td>38</td>\n      <td>Private</td>\n      <td>215646</td>\n      <td>HS-grad</td>\n      <td>9</td>\n      <td>Divorced</td>\n      <td>Handlers-cleaners</td>\n      <td>Not-in-family</td>\n      <td>White</td>\n      <td>Male</td>\n      <td>0</td>\n      <td>0</td>\n      <td>40</td>\n      <td>United-States</td>\n      <td>&lt;=50K</td>\n    </tr>\n    <tr>\n      <th>3</th>\n      <td>53</td>\n      <td>Private</td>\n      <td>234721</td>\n      <td>11th</td>\n      <td>7</td>\n      <td>Married-civ-spouse</td>\n      <td>Handlers-cleaners</td>\n      <td>Husband</td>\n      <td>Black</td>\n      <td>Male</td>\n      <td>0</td>\n      <td>0</td>\n      <td>40</td>\n      <td>United-States</td>\n      <td>&lt;=50K</td>\n    </tr>\n    <tr>\n      <th>4</th>\n      <td>28</td>\n      <td>Private</td>\n      <td>338409</td>\n      <td>Bachelors</td>\n      <td>13</td>\n      <td>Married-civ-spouse</td>\n      <td>Prof-specialty</td>\n      <td>Wife</td>\n      <td>Black</td>\n      <td>Female</td>\n      <td>0</td>\n      <td>0</td>\n      <td>40</td>\n      <td>Cuba</td>\n      <td>&lt;=50K</td>\n    </tr>\n  </tbody>\n</table>\n</div>"
     },
     "execution_count": 2,
     "metadata": {},
     "output_type": "execute_result"
    }
   ]
  },
  {
   "metadata": {
    "_uuid": "6b19853f936853d40971b56f4d298ab55ee78cac"
   },
   "cell_type": "markdown",
   "source": [
    "**1. How many men and women (*sex* feature) are represented in this dataset?** "
   ]
  },
  {
   "metadata": {
    "collapsed": true,
    "trusted": true,
    "_uuid": "d32cafcbe966dbdfa40c3017d16d6f8c96bfb3e2",
    "ExecuteTime": {
     "end_time": "2023-07-22T12:24:02.050430Z",
     "start_time": "2023-07-22T12:24:02.049231Z"
    }
   },
   "cell_type": "code",
   "source": [
    "data[\"sex\"].value_counts()"
   ],
   "execution_count": 3,
   "outputs": [
    {
     "data": {
      "text/plain": "sex\nMale      21790\nFemale    10771\nName: count, dtype: int64"
     },
     "execution_count": 3,
     "metadata": {},
     "output_type": "execute_result"
    }
   ]
  },
  {
   "metadata": {
    "_uuid": "4748793234a5d325ea60d13331ecf93e29774523"
   },
   "cell_type": "markdown",
   "source": [
    "**2. What is the average age (*age* feature) of women?**"
   ]
  },
  {
   "metadata": {
    "collapsed": true,
    "trusted": true,
    "_uuid": "64f60d928855107d8980875656dcdf3587d91646",
    "ExecuteTime": {
     "end_time": "2023-07-22T12:24:02.061058Z",
     "start_time": "2023-07-22T12:24:02.051472Z"
    }
   },
   "cell_type": "code",
   "source": [
    "data.query(\"sex == 'Female'\")[\"age\"].mean()"
   ],
   "execution_count": 4,
   "outputs": [
    {
     "data": {
      "text/plain": "36.85823043357163"
     },
     "execution_count": 4,
     "metadata": {},
     "output_type": "execute_result"
    }
   ]
  },
  {
   "metadata": {
    "_uuid": "80e87c421c348067e88769c64e554206c51727d1"
   },
   "cell_type": "markdown",
   "source": [
    "**3. What is the percentage of German citizens (*native-country* feature)?**"
   ]
  },
  {
   "metadata": {
    "collapsed": true,
    "trusted": true,
    "_uuid": "ca9807509692638bd945671ed7d8b4a5ad1f3626",
    "ExecuteTime": {
     "end_time": "2023-07-22T12:24:02.069620Z",
     "start_time": "2023-07-22T12:24:02.066327Z"
    }
   },
   "cell_type": "code",
   "source": [
    "germany_count = data[\"native-country\"].value_counts().reset_index()\n",
    "germany_count[germany_count[\"native-country\"] == \"Germany\"][\"count\"].values[0] / len(data) * 100"
   ],
   "execution_count": 5,
   "outputs": [
    {
     "data": {
      "text/plain": "0.42074874850281013"
     },
     "execution_count": 5,
     "metadata": {},
     "output_type": "execute_result"
    }
   ]
  },
  {
   "metadata": {
    "_uuid": "be9911cf525df4fca2c1d14b8720bc8a82f462e7"
   },
   "cell_type": "markdown",
   "source": [
    "**4-5. What are the mean and standard deviation of age for those who earn more than 50K per year (*salary* feature) and those who earn less than 50K per year?**"
   ]
  },
  {
   "metadata": {
    "collapsed": true,
    "trusted": true,
    "_uuid": "97948f0115f949913d211627151b5605bcd204fd",
    "ExecuteTime": {
     "end_time": "2023-07-22T12:24:02.112525Z",
     "start_time": "2023-07-22T12:24:02.071653Z"
    }
   },
   "cell_type": "code",
   "source": [
    "import numpy as np\n",
    "\n",
    "data.query(\"salary == '<=50K'\")[\"age\"].mean()"
   ],
   "execution_count": 6,
   "outputs": [
    {
     "data": {
      "text/plain": "36.78373786407767"
     },
     "execution_count": 6,
     "metadata": {},
     "output_type": "execute_result"
    }
   ]
  },
  {
   "cell_type": "code",
   "execution_count": 7,
   "outputs": [
    {
     "data": {
      "text/plain": "44.24984058155847"
     },
     "execution_count": 7,
     "metadata": {},
     "output_type": "execute_result"
    }
   ],
   "source": [
    "data.query(\"salary == '>50K'\")[\"age\"].mean()"
   ],
   "metadata": {
    "collapsed": false,
    "ExecuteTime": {
     "end_time": "2023-07-22T12:24:02.136976Z",
     "start_time": "2023-07-22T12:24:02.080845Z"
    }
   }
  },
  {
   "cell_type": "code",
   "execution_count": 8,
   "outputs": [
    {
     "data": {
      "text/plain": "14.02008849082488"
     },
     "execution_count": 8,
     "metadata": {},
     "output_type": "execute_result"
    }
   ],
   "source": [
    "data.query(\"salary == '<=50K'\")[\"age\"].std()"
   ],
   "metadata": {
    "collapsed": false,
    "ExecuteTime": {
     "end_time": "2023-07-22T12:24:02.137528Z",
     "start_time": "2023-07-22T12:24:02.095640Z"
    }
   }
  },
  {
   "cell_type": "code",
   "execution_count": 35,
   "outputs": [
    {
     "data": {
      "text/plain": "10.519027719851826"
     },
     "execution_count": 35,
     "metadata": {},
     "output_type": "execute_result"
    }
   ],
   "source": [
    "data.query(\"salary == '>50K'\")[\"age\"].std()"
   ],
   "metadata": {
    "collapsed": false,
    "ExecuteTime": {
     "end_time": "2023-07-22T13:01:46.380410Z",
     "start_time": "2023-07-22T13:01:46.338512Z"
    }
   }
  },
  {
   "metadata": {
    "_uuid": "180c3fe6f8b250b877c1d86866067b80acabdb64"
   },
   "cell_type": "markdown",
   "source": [
    "**6. Is it true that people who earn more than 50K have at least high school education? (*education – Bachelors, Prof-school, Assoc-acdm, Assoc-voc, Masters* or *Doctorate* feature)**"
   ]
  },
  {
   "metadata": {
    "collapsed": true,
    "trusted": true,
    "_uuid": "58f38ebfa2b0e1418a6a1a680d0743697f9876a2",
    "ExecuteTime": {
     "end_time": "2023-07-22T12:32:11.919488Z",
     "start_time": "2023-07-22T12:32:11.878430Z"
    }
   },
   "cell_type": "code",
   "source": [
    "data.query(\"salary == '>50K'\").groupby(\"education\").size()"
   ],
   "execution_count": 26,
   "outputs": [
    {
     "data": {
      "text/plain": "education\n10th              62\n11th              60\n12th              33\n1st-4th            6\n5th-6th           16\n7th-8th           40\n9th               27\nAssoc-acdm       265\nAssoc-voc        361\nBachelors       2221\nDoctorate        306\nHS-grad         1675\nMasters          959\nProf-school      423\nSome-college    1387\ndtype: int64"
     },
     "execution_count": 26,
     "metadata": {},
     "output_type": "execute_result"
    }
   ]
  },
  {
   "metadata": {
    "_uuid": "87d6bc9ec1c230e66416ce94533ea250368009cc"
   },
   "cell_type": "markdown",
   "source": [
    "**7. Display age statistics for each race (*race* feature) and each gender (*sex* feature). Use *groupby()* and *describe()*. Find the maximum age of men of *Amer-Indian-Eskimo* race.**"
   ]
  },
  {
   "metadata": {
    "collapsed": true,
    "trusted": true,
    "_uuid": "a4567b72200b583f7f2ee1583405d636c12169db",
    "ExecuteTime": {
     "end_time": "2023-07-22T12:35:14.117025Z",
     "start_time": "2023-07-22T12:35:14.075087Z"
    }
   },
   "cell_type": "code",
   "source": [
    "data.groupby([\"age\", \"race\"]).size()"
   ],
   "execution_count": 28,
   "outputs": [
    {
     "data": {
      "text/plain": "age  race              \n17   Amer-Indian-Eskimo      3\n     Asian-Pac-Islander      2\n     Black                  34\n     Other                   7\n     White                 349\n                          ... \n87   White                   1\n88   White                   3\n90   Asian-Pac-Islander      5\n     Black                   4\n     White                  34\nLength: 297, dtype: int64"
     },
     "execution_count": 28,
     "metadata": {},
     "output_type": "execute_result"
    }
   ]
  },
  {
   "cell_type": "code",
   "execution_count": 29,
   "outputs": [
    {
     "data": {
      "text/plain": "age                               82\nworkclass                  State-gov\nfnlwgt                        445168\neducation               Some-college\neducation-num                     16\nmarital-status               Widowed\noccupation          Transport-moving\nrelationship                    Wife\nrace              Amer-Indian-Eskimo\nsex                             Male\ncapital-gain                   27828\ncapital-loss                    1980\nhours-per-week                    84\nnative-country         United-States\nsalary                          >50K\ndtype: object"
     },
     "execution_count": 29,
     "metadata": {},
     "output_type": "execute_result"
    }
   ],
   "source": [
    "data[data[\"race\"] == \"Amer-Indian-Eskimo\"].max()"
   ],
   "metadata": {
    "collapsed": false,
    "ExecuteTime": {
     "end_time": "2023-07-22T12:36:07.587939Z",
     "start_time": "2023-07-22T12:36:07.572078Z"
    }
   }
  },
  {
   "metadata": {
    "_uuid": "19411d604b0d4337a4a048a2f0e898541f39ab76"
   },
   "cell_type": "markdown",
   "source": [
    "**8. Among whom is the proportion of those who earn a lot (>50K) greater: married or single men (*marital-status* feature)? Consider as married those who have a *marital-status* starting with *Married* (Married-civ-spouse, Married-spouse-absent or Married-AF-spouse), the rest are considered bachelors.**"
   ]
  },
  {
   "metadata": {
    "collapsed": true,
    "trusted": true,
    "_uuid": "5bb3a8524fcbd794707075ccf6aaf8dd0f30a3dd",
    "ExecuteTime": {
     "end_time": "2023-07-22T13:39:59.691448Z",
     "start_time": "2023-07-22T13:39:59.658032Z"
    }
   },
   "cell_type": "code",
   "source": [
    "data[data[\"salary\"] == \">50K\"].query(\"sex == 'Male'\").groupby([\"salary\", \"marital-status\"]).size()"
   ],
   "execution_count": 38,
   "outputs": [
    {
     "data": {
      "text/plain": "salary  marital-status       \n>50K    Divorced                  284\n        Married-AF-spouse           4\n        Married-civ-spouse       5938\n        Married-spouse-absent      23\n        Never-married             325\n        Separated                  49\n        Widowed                    39\ndtype: int64"
     },
     "execution_count": 38,
     "metadata": {},
     "output_type": "execute_result"
    }
   ]
  },
  {
   "metadata": {
    "_uuid": "34f2076e7d331b95a23b990372809b709d2c8183"
   },
   "cell_type": "markdown",
   "source": [
    "**9. What is the maximum number of hours a person works per week (*hours-per-week* feature)? How many people work such a number of hours, and what is the percentage of those who earn a lot (>50K) among them?**"
   ]
  },
  {
   "metadata": {
    "collapsed": true,
    "trusted": true,
    "_uuid": "3571468172fc4bcf34e10b3d6ab358d4e41f7ef4",
    "ExecuteTime": {
     "end_time": "2023-07-22T13:41:33.609133Z",
     "start_time": "2023-07-22T13:41:33.570204Z"
    }
   },
   "cell_type": "code",
   "source": [
    "data.groupby([\"hours-per-week\", \"salary\"]).size()"
   ],
   "execution_count": 42,
   "outputs": [
    {
     "data": {
      "text/plain": "hours-per-week  salary\n1               <=50K     18\n                >50K       2\n2               <=50K     24\n                >50K       8\n3               <=50K     38\n                          ..\n97              >50K       1\n98              <=50K      8\n                >50K       3\n99              <=50K     60\n                >50K      25\nLength: 173, dtype: int64"
     },
     "execution_count": 42,
     "metadata": {},
     "output_type": "execute_result"
    }
   ]
  },
  {
   "metadata": {
    "_uuid": "d539d4d137fac1c5ea25bc516188eb657d67e9b4"
   },
   "cell_type": "markdown",
   "source": [
    "**10. Count the average time of work (*hours-per-week*) for those who earn a little and a lot (*salary*) for each country (*native-country*). What will these be for Japan?**"
   ]
  },
  {
   "metadata": {
    "collapsed": true,
    "trusted": false,
    "_uuid": "75a93411f1e3b519afcc27c026aaa0c67eb526e9",
    "ExecuteTime": {
     "end_time": "2023-07-22T13:43:30.133304Z",
     "start_time": "2023-07-22T13:43:30.106459Z"
    }
   },
   "cell_type": "code",
   "source": [
    "df = data.groupby([\"salary\", \"native-country\"])[\"hours-per-week\"].mean().reset_index()\n",
    "df[df[\"native-country\"] == \"Japan\"]"
   ],
   "execution_count": 48,
   "outputs": [
    {
     "data": {
      "text/plain": "   salary native-country  hours-per-week\n24  <=50K          Japan       41.000000\n65   >50K          Japan       47.958333",
      "text/html": "<div>\n<style scoped>\n    .dataframe tbody tr th:only-of-type {\n        vertical-align: middle;\n    }\n\n    .dataframe tbody tr th {\n        vertical-align: top;\n    }\n\n    .dataframe thead th {\n        text-align: right;\n    }\n</style>\n<table border=\"1\" class=\"dataframe\">\n  <thead>\n    <tr style=\"text-align: right;\">\n      <th></th>\n      <th>salary</th>\n      <th>native-country</th>\n      <th>hours-per-week</th>\n    </tr>\n  </thead>\n  <tbody>\n    <tr>\n      <th>24</th>\n      <td>&lt;=50K</td>\n      <td>Japan</td>\n      <td>41.000000</td>\n    </tr>\n    <tr>\n      <th>65</th>\n      <td>&gt;50K</td>\n      <td>Japan</td>\n      <td>47.958333</td>\n    </tr>\n  </tbody>\n</table>\n</div>"
     },
     "execution_count": 48,
     "metadata": {},
     "output_type": "execute_result"
    }
   ]
  }
 ],
 "metadata": {
  "anaconda-cloud": {},
  "kernelspec": {
   "display_name": "Python 3",
   "language": "python",
   "name": "python3"
  },
  "language_info": {
   "name": "python",
   "version": "3.6.6",
   "mimetype": "text/x-python",
   "codemirror_mode": {
    "name": "ipython",
    "version": 3
   },
   "pygments_lexer": "ipython3",
   "nbconvert_exporter": "python",
   "file_extension": ".py"
  }
 },
 "nbformat": 4,
 "nbformat_minor": 1
}
