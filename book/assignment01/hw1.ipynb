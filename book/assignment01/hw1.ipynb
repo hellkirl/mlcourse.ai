{
 "cells": [
  {
   "cell_type": "code",
   "execution_count": 2,
   "id": "a10821a4",
   "metadata": {
    "ExecuteTime": {
     "end_time": "2023-07-01T16:39:53.009791Z",
     "start_time": "2023-07-01T16:39:49.200998Z"
    }
   },
   "outputs": [],
   "source": [
    "import pandas as pd\n",
    "import numpy as np\n",
    "\n",
    "taxiDB = pd.read_csv('taxi_dataset.csv')"
   ]
  },
  {
   "cell_type": "code",
   "execution_count": 3,
   "id": "9279db2a",
   "metadata": {
    "ExecuteTime": {
     "end_time": "2023-07-01T16:39:53.025768Z",
     "start_time": "2023-07-01T16:39:53.015565Z"
    }
   },
   "outputs": [
    {
     "data": {
      "text/plain": "          id  vendor_id      pickup_datetime     dropoff_datetime  \\\n0  id2875421          2  2016-03-14 17:24:55  2016-03-14 17:32:30   \n1  id2377394          1  2016-06-12 00:43:35  2016-06-12 00:54:38   \n2  id3858529          2  2016-01-19 11:35:24  2016-01-19 12:10:48   \n3  id3504673          2  2016-04-06 19:32:31  2016-04-06 19:39:40   \n4  id2181028          2  2016-03-26 13:30:55  2016-03-26 13:38:10   \n\n   passenger_count  pickup_longitude  pickup_latitude  dropoff_longitude  \\\n0                1        -73.982155        40.767937         -73.964630   \n1                1        -73.980415        40.738564         -73.999481   \n2                1        -73.979027        40.763939         -74.005333   \n3                1        -74.010040        40.719971         -74.012268   \n4                1        -73.973053        40.793209         -73.972923   \n\n   dropoff_latitude store_and_fwd_flag  \n0         40.765602                  N  \n1         40.731152                  N  \n2         40.710087                  N  \n3         40.706718                  N  \n4         40.782520                  N  ",
      "text/html": "<div>\n<style scoped>\n    .dataframe tbody tr th:only-of-type {\n        vertical-align: middle;\n    }\n\n    .dataframe tbody tr th {\n        vertical-align: top;\n    }\n\n    .dataframe thead th {\n        text-align: right;\n    }\n</style>\n<table border=\"1\" class=\"dataframe\">\n  <thead>\n    <tr style=\"text-align: right;\">\n      <th></th>\n      <th>id</th>\n      <th>vendor_id</th>\n      <th>pickup_datetime</th>\n      <th>dropoff_datetime</th>\n      <th>passenger_count</th>\n      <th>pickup_longitude</th>\n      <th>pickup_latitude</th>\n      <th>dropoff_longitude</th>\n      <th>dropoff_latitude</th>\n      <th>store_and_fwd_flag</th>\n    </tr>\n  </thead>\n  <tbody>\n    <tr>\n      <th>0</th>\n      <td>id2875421</td>\n      <td>2</td>\n      <td>2016-03-14 17:24:55</td>\n      <td>2016-03-14 17:32:30</td>\n      <td>1</td>\n      <td>-73.982155</td>\n      <td>40.767937</td>\n      <td>-73.964630</td>\n      <td>40.765602</td>\n      <td>N</td>\n    </tr>\n    <tr>\n      <th>1</th>\n      <td>id2377394</td>\n      <td>1</td>\n      <td>2016-06-12 00:43:35</td>\n      <td>2016-06-12 00:54:38</td>\n      <td>1</td>\n      <td>-73.980415</td>\n      <td>40.738564</td>\n      <td>-73.999481</td>\n      <td>40.731152</td>\n      <td>N</td>\n    </tr>\n    <tr>\n      <th>2</th>\n      <td>id3858529</td>\n      <td>2</td>\n      <td>2016-01-19 11:35:24</td>\n      <td>2016-01-19 12:10:48</td>\n      <td>1</td>\n      <td>-73.979027</td>\n      <td>40.763939</td>\n      <td>-74.005333</td>\n      <td>40.710087</td>\n      <td>N</td>\n    </tr>\n    <tr>\n      <th>3</th>\n      <td>id3504673</td>\n      <td>2</td>\n      <td>2016-04-06 19:32:31</td>\n      <td>2016-04-06 19:39:40</td>\n      <td>1</td>\n      <td>-74.010040</td>\n      <td>40.719971</td>\n      <td>-74.012268</td>\n      <td>40.706718</td>\n      <td>N</td>\n    </tr>\n    <tr>\n      <th>4</th>\n      <td>id2181028</td>\n      <td>2</td>\n      <td>2016-03-26 13:30:55</td>\n      <td>2016-03-26 13:38:10</td>\n      <td>1</td>\n      <td>-73.973053</td>\n      <td>40.793209</td>\n      <td>-73.972923</td>\n      <td>40.782520</td>\n      <td>N</td>\n    </tr>\n  </tbody>\n</table>\n</div>"
     },
     "execution_count": 3,
     "metadata": {},
     "output_type": "execute_result"
    }
   ],
   "source": [
    "taxiDB.head(5)"
   ]
  },
  {
   "cell_type": "markdown",
   "id": "95a1f65f",
   "metadata": {},
   "source": [
    "<dl>\n",
    "<dt> Описание колонок:\n",
    "<dd>id - ID поездки </dd>\n",
    "<dd>vendor_id - ID компании, осуществляющей перевозку </dd>\n",
    "<dd>pickup_datetime - Таймкод начала поездки</dd>\n",
    "<dd>dropoff_datetime - Таймкод конца поездки </dd>\n",
    "<dd>passenger_count - Количество пассажиров </dd>\n",
    "<dd>pickup_longitude - Долгота точки, в которой началась поездка </dd>\n",
    "<dd>pickup_latitude - Широта точки, в которой началась поездка </dd>\n",
    "<dd>dropoff_longitude - Долгота точки, в которой закончилась поездка </dd>\n",
    "<dd>dropoff_latitude - Широта точки, в которой закончилась поездка </dd>\n",
    "<dd>store_and_fwd_flag - Yes/No: Была ли информация сохранена в памяти транспортного средства из-за потери соединения с сервером </dd>\n",
    "</dl>\n",
    "\n",
    "**Наша целевая переменная - длительность поездки.**\n",
    "\n",
    "Зная тайм-коды времени начала и конца поездок, можем вычислить обозначенный таргет\n",
    "Договоримся, что производим вычисления в секундах.\n",
    "Советуем обратить внимание на  <a href=\"https://pandas.pydata.org/docs/reference/api/pandas.to_datetime.html\">данный способ</a> для перевода строки в datetime тип, с которым удобно работать при вычленении дней/часов...\n",
    "\n",
    "И <a href=\"https://pandas.pydata.org/docs/reference/api/pandas.Series.dt.total_seconds.html\"> этот </a>для перевода разницы datetime объектов в секунды\n",
    "\n",
    "Положите таргетную переменнул в столбик с названием **trip_duration**"
   ]
  },
  {
   "cell_type": "code",
   "execution_count": 4,
   "id": "eddf1f21",
   "metadata": {
    "ExecuteTime": {
     "end_time": "2023-07-01T16:39:54.153864Z",
     "start_time": "2023-07-01T16:39:53.032471Z"
    }
   },
   "outputs": [],
   "source": [
    "taxiDB['trip_duration'] = (\n",
    "        pd.to_datetime(taxiDB['dropoff_datetime']) - pd.to_datetime(taxiDB['pickup_datetime'])).dt.total_seconds()"
   ]
  },
  {
   "cell_type": "markdown",
   "id": "e4eadedc",
   "metadata": {},
   "source": [
    "Предсказывая таргет для новых объектов в будущем, мы не будем заранее знать **dropoff_datetime**.\n",
    "\n",
    "Удалим колонку из датасета."
   ]
  },
  {
   "cell_type": "code",
   "execution_count": 5,
   "id": "6b92a69b",
   "metadata": {
    "ExecuteTime": {
     "end_time": "2023-07-01T16:39:54.252610Z",
     "start_time": "2023-07-01T16:39:54.145025Z"
    }
   },
   "outputs": [],
   "source": [
    "taxiDB = taxiDB.drop(columns=[\"dropoff_datetime\"])"
   ]
  },
  {
   "cell_type": "markdown",
   "id": "6cd88d7c",
   "metadata": {},
   "source": [
    "\n",
    "**В будущем будем строить модель. На каких признаках? Рассмотрим имеющиеся вещественные/бинарные и обсудим, какие простейшие признаки можно вытащить из остальных колонок.**\n",
    "\n",
    "Во-первых, имеем бинарный признак vendor_id, принимающий значения {1, 2}. Переведем его во множество {0, 1}, так как это просто привычнее."
   ]
  },
  {
   "cell_type": "code",
   "execution_count": 6,
   "id": "f6a0ed02",
   "metadata": {
    "ExecuteTime": {
     "end_time": "2023-07-01T16:39:54.295933Z",
     "start_time": "2023-07-01T16:39:54.260021Z"
    }
   },
   "outputs": [
    {
     "data": {
      "text/plain": "          id  vendor_id      pickup_datetime  passenger_count  \\\n0  id2875421          1  2016-03-14 17:24:55                1   \n1  id2377394          0  2016-06-12 00:43:35                1   \n2  id3858529          1  2016-01-19 11:35:24                1   \n3  id3504673          1  2016-04-06 19:32:31                1   \n4  id2181028          1  2016-03-26 13:30:55                1   \n\n   pickup_longitude  pickup_latitude  dropoff_longitude  dropoff_latitude  \\\n0        -73.982155        40.767937         -73.964630         40.765602   \n1        -73.980415        40.738564         -73.999481         40.731152   \n2        -73.979027        40.763939         -74.005333         40.710087   \n3        -74.010040        40.719971         -74.012268         40.706718   \n4        -73.973053        40.793209         -73.972923         40.782520   \n\n  store_and_fwd_flag  trip_duration  \n0                  N          455.0  \n1                  N          663.0  \n2                  N         2124.0  \n3                  N          429.0  \n4                  N          435.0  ",
      "text/html": "<div>\n<style scoped>\n    .dataframe tbody tr th:only-of-type {\n        vertical-align: middle;\n    }\n\n    .dataframe tbody tr th {\n        vertical-align: top;\n    }\n\n    .dataframe thead th {\n        text-align: right;\n    }\n</style>\n<table border=\"1\" class=\"dataframe\">\n  <thead>\n    <tr style=\"text-align: right;\">\n      <th></th>\n      <th>id</th>\n      <th>vendor_id</th>\n      <th>pickup_datetime</th>\n      <th>passenger_count</th>\n      <th>pickup_longitude</th>\n      <th>pickup_latitude</th>\n      <th>dropoff_longitude</th>\n      <th>dropoff_latitude</th>\n      <th>store_and_fwd_flag</th>\n      <th>trip_duration</th>\n    </tr>\n  </thead>\n  <tbody>\n    <tr>\n      <th>0</th>\n      <td>id2875421</td>\n      <td>1</td>\n      <td>2016-03-14 17:24:55</td>\n      <td>1</td>\n      <td>-73.982155</td>\n      <td>40.767937</td>\n      <td>-73.964630</td>\n      <td>40.765602</td>\n      <td>N</td>\n      <td>455.0</td>\n    </tr>\n    <tr>\n      <th>1</th>\n      <td>id2377394</td>\n      <td>0</td>\n      <td>2016-06-12 00:43:35</td>\n      <td>1</td>\n      <td>-73.980415</td>\n      <td>40.738564</td>\n      <td>-73.999481</td>\n      <td>40.731152</td>\n      <td>N</td>\n      <td>663.0</td>\n    </tr>\n    <tr>\n      <th>2</th>\n      <td>id3858529</td>\n      <td>1</td>\n      <td>2016-01-19 11:35:24</td>\n      <td>1</td>\n      <td>-73.979027</td>\n      <td>40.763939</td>\n      <td>-74.005333</td>\n      <td>40.710087</td>\n      <td>N</td>\n      <td>2124.0</td>\n    </tr>\n    <tr>\n      <th>3</th>\n      <td>id3504673</td>\n      <td>1</td>\n      <td>2016-04-06 19:32:31</td>\n      <td>1</td>\n      <td>-74.010040</td>\n      <td>40.719971</td>\n      <td>-74.012268</td>\n      <td>40.706718</td>\n      <td>N</td>\n      <td>429.0</td>\n    </tr>\n    <tr>\n      <th>4</th>\n      <td>id2181028</td>\n      <td>1</td>\n      <td>2016-03-26 13:30:55</td>\n      <td>1</td>\n      <td>-73.973053</td>\n      <td>40.793209</td>\n      <td>-73.972923</td>\n      <td>40.782520</td>\n      <td>N</td>\n      <td>435.0</td>\n    </tr>\n  </tbody>\n</table>\n</div>"
     },
     "execution_count": 6,
     "metadata": {},
     "output_type": "execute_result"
    }
   ],
   "source": [
    "taxiDB['vendor_id'] = taxiDB['vendor_id'] - 1\n",
    "taxiDB.head()"
   ]
  },
  {
   "cell_type": "markdown",
   "id": "728f06c2",
   "metadata": {},
   "source": [
    "Найдите еще один бинарный признак в данном датасете. Закодируйте и его тоже во множество {0, 1}."
   ]
  },
  {
   "cell_type": "code",
   "execution_count": 7,
   "id": "874f8464",
   "metadata": {
    "ExecuteTime": {
     "end_time": "2023-07-01T16:39:54.390477Z",
     "start_time": "2023-07-01T16:39:54.288023Z"
    }
   },
   "outputs": [],
   "source": [
    "taxiDB[\"store_and_fwd_flag\"] = taxiDB[\"store_and_fwd_flag\"].map({\"N\": 0, \"Y\": 1})"
   ]
  },
  {
   "cell_type": "markdown",
   "id": "1b9cf04f",
   "metadata": {},
   "source": [
    "Во-вторых, можем использовать долготу и широту точек старта/завершения поездки, чтобы примерно оценить расстояние между 2 точками.\n",
    "\n",
    "Сами по себе они, как самостоятельные вещественные признаки, вряд ли способны хорошо объяснять длительность поездки.\n",
    "\n",
    "Базовая идея состоит в том, чтобы посчитать разность долгот и широт соответственно, то есть:\n",
    "\n",
    "$$\n",
    "\\delta_{long} = \\text{dropoff_longitude} - \\text{pickup_longitude}\n",
    "$$\n",
    "\n",
    "$$\n",
    "\\delta_{lat} =  \\text{dropoff_latitude} - \\text{pickup_latitude}\n",
    "$$\n",
    "\n",
    "А потом вычислить географическое расстояние между 2 точками по теореме Пифагора:\n",
    "\n",
    "$$\n",
    "R = \\sqrt{\\delta^2_{long} + \\delta^2_{lat}}\n",
    "$$\n",
    "\n",
    "Мы реализуем данную задумку и вычислим такую вещественную колонку **R**, что, в целом, является хорошим тоном при работе с координатами точек.\n",
    "\n",
    "Только для начала нужно некоторым образом перевести долготу и широту в километры, обеспечив равенство их мер измерения. Потому что, вообще говоря, *градусная мера* широт и долгот имеет неодинаковую шкалу перевода в километры. Так, если пропустить данную деталь, расстояние **R** будет вычислено неверно, ведь катеты тогда будут иметь разную размерность.\n",
    "\n",
    "В целом, перевод из долгот и широт в расстояние поездки позволяет нам в будущем проверить зависимость **длительности поездки от километража**, и объяснить ее будет куда проще, чем аналогичную между таргетом и изначальными признаками\n",
    "\n",
    "<a href=\"https://www.datafix.com.au/BASHing/2018-11-07.html\"> Маленькая статья про перевод разницы градусов долгот/широт в километры</a>"
   ]
  },
  {
   "cell_type": "markdown",
   "id": "4022a253",
   "metadata": {},
   "source": [
    "**Начнем переводить каждую долготу в некоторое относительно километровое выражение**\n",
    "\n",
    "Соберем список из всех широт (как точек старта, так и конца)."
   ]
  },
  {
   "cell_type": "code",
   "execution_count": 8,
   "id": "a5a27c42",
   "metadata": {
    "ExecuteTime": {
     "end_time": "2023-07-01T16:39:54.707305Z",
     "start_time": "2023-07-01T16:39:54.682074Z"
    }
   },
   "outputs": [],
   "source": [
    "allLat = list(taxiDB['pickup_latitude']) + list(taxiDB['dropoff_latitude'])"
   ]
  },
  {
   "cell_type": "markdown",
   "id": "210bfde5",
   "metadata": {},
   "source": [
    "Посчитаем медиану:\n",
    "\n",
    "Это некоторое \"Центральное значение\" в отсортированном массиве всех значений.\n",
    "\n",
    "Иными словами, такое число, меньше и больше которого примерно равное количество объектов."
   ]
  },
  {
   "cell_type": "code",
   "execution_count": 9,
   "id": "85abe188",
   "metadata": {
    "ExecuteTime": {
     "end_time": "2023-07-01T16:39:55.456241Z",
     "start_time": "2023-07-01T16:39:55.450535Z"
    }
   },
   "outputs": [],
   "source": [
    "medianLat = sorted(allLat)[int(len(allLat) / 2)]"
   ]
  },
  {
   "cell_type": "markdown",
   "id": "823f6d05",
   "metadata": {},
   "source": [
    "Теперь, для из каждого значения широты вычтем медианное значение.\n",
    "\n",
    "Результат переведем в километры."
   ]
  },
  {
   "cell_type": "code",
   "execution_count": 10,
   "id": "c2140bf2",
   "metadata": {
    "ExecuteTime": {
     "end_time": "2023-07-01T16:39:55.466444Z",
     "start_time": "2023-07-01T16:39:55.454373Z"
    }
   },
   "outputs": [],
   "source": [
    "latMultiplier = 111.32\n",
    "\n",
    "taxiDB['pickup_latitude'] = latMultiplier * (taxiDB['pickup_latitude'] - medianLat)\n",
    "taxiDB['dropoff_latitude'] = latMultiplier * (taxiDB['dropoff_latitude'] - medianLat)"
   ]
  },
  {
   "cell_type": "code",
   "execution_count": 11,
   "id": "9334bd8b",
   "metadata": {
    "ExecuteTime": {
     "end_time": "2023-07-01T16:39:55.473629Z",
     "start_time": "2023-07-01T16:39:55.471300Z"
    }
   },
   "outputs": [
    {
     "data": {
      "text/plain": "          id  vendor_id      pickup_datetime  passenger_count  \\\n0  id2875421          1  2016-03-14 17:24:55                1   \n1  id2377394          0  2016-06-12 00:43:35                1   \n2  id3858529          1  2016-01-19 11:35:24                1   \n3  id3504673          1  2016-04-06 19:32:31                1   \n4  id2181028          1  2016-03-26 13:30:55                1   \n\n   pickup_longitude  pickup_latitude  dropoff_longitude  dropoff_latitude  \\\n0        -73.982155         1.516008         -73.964630          1.256121   \n1        -73.980415        -1.753813         -73.999481         -2.578912   \n2        -73.979027         1.070973         -74.005333         -4.923841   \n3        -74.010040        -3.823568         -74.012268         -5.298809   \n4        -73.973053         4.329328         -73.972923          3.139453   \n\n   store_and_fwd_flag  trip_duration  \n0                   0          455.0  \n1                   0          663.0  \n2                   0         2124.0  \n3                   0          429.0  \n4                   0          435.0  ",
      "text/html": "<div>\n<style scoped>\n    .dataframe tbody tr th:only-of-type {\n        vertical-align: middle;\n    }\n\n    .dataframe tbody tr th {\n        vertical-align: top;\n    }\n\n    .dataframe thead th {\n        text-align: right;\n    }\n</style>\n<table border=\"1\" class=\"dataframe\">\n  <thead>\n    <tr style=\"text-align: right;\">\n      <th></th>\n      <th>id</th>\n      <th>vendor_id</th>\n      <th>pickup_datetime</th>\n      <th>passenger_count</th>\n      <th>pickup_longitude</th>\n      <th>pickup_latitude</th>\n      <th>dropoff_longitude</th>\n      <th>dropoff_latitude</th>\n      <th>store_and_fwd_flag</th>\n      <th>trip_duration</th>\n    </tr>\n  </thead>\n  <tbody>\n    <tr>\n      <th>0</th>\n      <td>id2875421</td>\n      <td>1</td>\n      <td>2016-03-14 17:24:55</td>\n      <td>1</td>\n      <td>-73.982155</td>\n      <td>1.516008</td>\n      <td>-73.964630</td>\n      <td>1.256121</td>\n      <td>0</td>\n      <td>455.0</td>\n    </tr>\n    <tr>\n      <th>1</th>\n      <td>id2377394</td>\n      <td>0</td>\n      <td>2016-06-12 00:43:35</td>\n      <td>1</td>\n      <td>-73.980415</td>\n      <td>-1.753813</td>\n      <td>-73.999481</td>\n      <td>-2.578912</td>\n      <td>0</td>\n      <td>663.0</td>\n    </tr>\n    <tr>\n      <th>2</th>\n      <td>id3858529</td>\n      <td>1</td>\n      <td>2016-01-19 11:35:24</td>\n      <td>1</td>\n      <td>-73.979027</td>\n      <td>1.070973</td>\n      <td>-74.005333</td>\n      <td>-4.923841</td>\n      <td>0</td>\n      <td>2124.0</td>\n    </tr>\n    <tr>\n      <th>3</th>\n      <td>id3504673</td>\n      <td>1</td>\n      <td>2016-04-06 19:32:31</td>\n      <td>1</td>\n      <td>-74.010040</td>\n      <td>-3.823568</td>\n      <td>-74.012268</td>\n      <td>-5.298809</td>\n      <td>0</td>\n      <td>429.0</td>\n    </tr>\n    <tr>\n      <th>4</th>\n      <td>id2181028</td>\n      <td>1</td>\n      <td>2016-03-26 13:30:55</td>\n      <td>1</td>\n      <td>-73.973053</td>\n      <td>4.329328</td>\n      <td>-73.972923</td>\n      <td>3.139453</td>\n      <td>0</td>\n      <td>435.0</td>\n    </tr>\n  </tbody>\n</table>\n</div>"
     },
     "execution_count": 11,
     "metadata": {},
     "output_type": "execute_result"
    }
   ],
   "source": [
    "taxiDB.head()"
   ]
  },
  {
   "cell_type": "markdown",
   "id": "b09e6143",
   "metadata": {},
   "source": [
    "Итого, для **latitude** колонок получили следующие выражения:\n",
    "\n",
    "*На сколько примерно километров севернее или южнее (в зависимости от знака) точка находится относительно средней широты*"
   ]
  },
  {
   "cell_type": "code",
   "execution_count": 12,
   "id": "594f3c19",
   "metadata": {
    "ExecuteTime": {
     "end_time": "2023-07-01T16:39:56.445190Z",
     "start_time": "2023-07-01T16:39:56.443657Z"
    }
   },
   "outputs": [],
   "source": [
    "allLong = list(taxiDB['pickup_longitude']) + list(taxiDB['dropoff_longitude'])\n",
    "\n",
    "medianLong = sorted(allLong)[int(len(allLong) / 2)]\n",
    "\n",
    "longMultiplier = np.cos(medianLat * (np.pi / 180.0)) * 111.32"
   ]
  },
  {
   "cell_type": "markdown",
   "id": "645ea2e7",
   "metadata": {},
   "source": [
    "Используя полученную медиану и множитель, на который стоит корректировать все долготы, получите корректные **longitude** признаки по аналогии."
   ]
  },
  {
   "cell_type": "code",
   "execution_count": 13,
   "id": "b5b05bb0",
   "metadata": {
    "ExecuteTime": {
     "end_time": "2023-07-01T16:39:56.457186Z",
     "start_time": "2023-07-01T16:39:56.446757Z"
    }
   },
   "outputs": [],
   "source": [
    "taxiDB[\"pickup_longitude\"] = longMultiplier * (taxiDB[\"pickup_longitude\"] - medianLong)\n",
    "taxiDB[\"dropoff_longitude\"] = longMultiplier * (taxiDB[\"dropoff_longitude\"] - medianLong)"
   ]
  },
  {
   "cell_type": "markdown",
   "id": "dbfa240f",
   "metadata": {},
   "source": [
    "Почему мы вычисляли через медианы: они позволяют нам во время вычисления расстояния преобразовать изначальные longtitude/latitude колонки в \"отдаленности точек старта/конца поездок\" от медианных точек. Кажется, что это прикольно :) Есть подозрение, что медианная для поездок точка города - это, на практике, точка скопления вечерних пробок. Нам может быть вполне важно знать, насколько далеко от такого эпицентра ужаса мы начинаем и заканчиваем поездку (насколько севернее/южнее/...) и выделить поверх этой информации дополнительные признаки.<br>\n",
    "В домашнем задании это использоваться не будет, но это ещё один пример, как можно работать с признаками."
   ]
  },
  {
   "cell_type": "markdown",
   "id": "c0130b4c",
   "metadata": {},
   "source": [
    "Наконец, вычислим географическое расстояние **distance_km**:"
   ]
  },
  {
   "cell_type": "code",
   "execution_count": 14,
   "id": "b197b7a1",
   "metadata": {
    "ExecuteTime": {
     "end_time": "2023-07-01T16:39:56.478515Z",
     "start_time": "2023-07-01T16:39:56.459049Z"
    }
   },
   "outputs": [],
   "source": [
    "taxiDB[\"distance_km\"] = np.sqrt((taxiDB[\"dropoff_latitude\"] - taxiDB[\"pickup_longitude\"]) ** 2 + (\n",
    "        taxiDB[\"dropoff_longitude\"] - taxiDB[\"pickup_longitude\"]) ** 2)"
   ]
  },
  {
   "cell_type": "code",
   "execution_count": 15,
   "id": "2c612e61",
   "metadata": {
    "ExecuteTime": {
     "end_time": "2023-07-01T16:39:56.501144Z",
     "start_time": "2023-07-01T16:39:56.481601Z"
    }
   },
   "outputs": [
    {
     "data": {
      "text/plain": "          id  vendor_id      pickup_datetime  passenger_count  \\\n0  id2875421          1  2016-03-14 17:24:55                1   \n1  id2377394          0  2016-06-12 00:43:35                1   \n2  id3858529          1  2016-01-19 11:35:24                1   \n3  id3504673          1  2016-04-06 19:32:31                1   \n4  id2181028          1  2016-03-26 13:30:55                1   \n\n   pickup_longitude  pickup_latitude  dropoff_longitude  dropoff_latitude  \\\n0         -0.110015         1.516008           1.367786          1.256121   \n1          0.036672        -1.753813          -1.571088         -2.578912   \n2          0.153763         1.070973          -2.064547         -4.923841   \n3         -2.461500        -3.823568          -2.649362         -5.298809   \n4          0.657515         4.329328           0.668452          3.139453   \n\n   store_and_fwd_flag  trip_duration  distance_km  \n0                   0          455.0     2.012516  \n1                   0          663.0     3.070207  \n2                   0         2124.0     5.541026  \n3                   0          429.0     2.843521  \n4                   0          435.0     2.481962  ",
      "text/html": "<div>\n<style scoped>\n    .dataframe tbody tr th:only-of-type {\n        vertical-align: middle;\n    }\n\n    .dataframe tbody tr th {\n        vertical-align: top;\n    }\n\n    .dataframe thead th {\n        text-align: right;\n    }\n</style>\n<table border=\"1\" class=\"dataframe\">\n  <thead>\n    <tr style=\"text-align: right;\">\n      <th></th>\n      <th>id</th>\n      <th>vendor_id</th>\n      <th>pickup_datetime</th>\n      <th>passenger_count</th>\n      <th>pickup_longitude</th>\n      <th>pickup_latitude</th>\n      <th>dropoff_longitude</th>\n      <th>dropoff_latitude</th>\n      <th>store_and_fwd_flag</th>\n      <th>trip_duration</th>\n      <th>distance_km</th>\n    </tr>\n  </thead>\n  <tbody>\n    <tr>\n      <th>0</th>\n      <td>id2875421</td>\n      <td>1</td>\n      <td>2016-03-14 17:24:55</td>\n      <td>1</td>\n      <td>-0.110015</td>\n      <td>1.516008</td>\n      <td>1.367786</td>\n      <td>1.256121</td>\n      <td>0</td>\n      <td>455.0</td>\n      <td>2.012516</td>\n    </tr>\n    <tr>\n      <th>1</th>\n      <td>id2377394</td>\n      <td>0</td>\n      <td>2016-06-12 00:43:35</td>\n      <td>1</td>\n      <td>0.036672</td>\n      <td>-1.753813</td>\n      <td>-1.571088</td>\n      <td>-2.578912</td>\n      <td>0</td>\n      <td>663.0</td>\n      <td>3.070207</td>\n    </tr>\n    <tr>\n      <th>2</th>\n      <td>id3858529</td>\n      <td>1</td>\n      <td>2016-01-19 11:35:24</td>\n      <td>1</td>\n      <td>0.153763</td>\n      <td>1.070973</td>\n      <td>-2.064547</td>\n      <td>-4.923841</td>\n      <td>0</td>\n      <td>2124.0</td>\n      <td>5.541026</td>\n    </tr>\n    <tr>\n      <th>3</th>\n      <td>id3504673</td>\n      <td>1</td>\n      <td>2016-04-06 19:32:31</td>\n      <td>1</td>\n      <td>-2.461500</td>\n      <td>-3.823568</td>\n      <td>-2.649362</td>\n      <td>-5.298809</td>\n      <td>0</td>\n      <td>429.0</td>\n      <td>2.843521</td>\n    </tr>\n    <tr>\n      <th>4</th>\n      <td>id2181028</td>\n      <td>1</td>\n      <td>2016-03-26 13:30:55</td>\n      <td>1</td>\n      <td>0.657515</td>\n      <td>4.329328</td>\n      <td>0.668452</td>\n      <td>3.139453</td>\n      <td>0</td>\n      <td>435.0</td>\n      <td>2.481962</td>\n    </tr>\n  </tbody>\n</table>\n</div>"
     },
     "execution_count": 15,
     "metadata": {},
     "output_type": "execute_result"
    }
   ],
   "source": [
    "taxiDB.head()"
   ]
  },
  {
   "cell_type": "markdown",
   "id": "a83746db",
   "metadata": {},
   "source": [
    "Уберем старые признаки!"
   ]
  },
  {
   "cell_type": "code",
   "execution_count": 16,
   "id": "2ebce6a0",
   "metadata": {
    "ExecuteTime": {
     "end_time": "2023-07-01T16:39:56.596830Z",
     "start_time": "2023-07-01T16:39:56.484073Z"
    }
   },
   "outputs": [],
   "source": [
    "taxiDB = taxiDB.drop(['pickup_longitude', 'dropoff_longitude',\n",
    "                      'pickup_latitude', 'dropoff_latitude'], axis=1)"
   ]
  },
  {
   "cell_type": "code",
   "execution_count": 17,
   "id": "897bca14",
   "metadata": {
    "ExecuteTime": {
     "end_time": "2023-07-01T16:39:56.613762Z",
     "start_time": "2023-07-01T16:39:56.535266Z"
    }
   },
   "outputs": [
    {
     "data": {
      "text/plain": "          id  vendor_id      pickup_datetime  passenger_count  \\\n0  id2875421          1  2016-03-14 17:24:55                1   \n1  id2377394          0  2016-06-12 00:43:35                1   \n2  id3858529          1  2016-01-19 11:35:24                1   \n3  id3504673          1  2016-04-06 19:32:31                1   \n4  id2181028          1  2016-03-26 13:30:55                1   \n\n   store_and_fwd_flag  trip_duration  distance_km  \n0                   0          455.0     2.012516  \n1                   0          663.0     3.070207  \n2                   0         2124.0     5.541026  \n3                   0          429.0     2.843521  \n4                   0          435.0     2.481962  ",
      "text/html": "<div>\n<style scoped>\n    .dataframe tbody tr th:only-of-type {\n        vertical-align: middle;\n    }\n\n    .dataframe tbody tr th {\n        vertical-align: top;\n    }\n\n    .dataframe thead th {\n        text-align: right;\n    }\n</style>\n<table border=\"1\" class=\"dataframe\">\n  <thead>\n    <tr style=\"text-align: right;\">\n      <th></th>\n      <th>id</th>\n      <th>vendor_id</th>\n      <th>pickup_datetime</th>\n      <th>passenger_count</th>\n      <th>store_and_fwd_flag</th>\n      <th>trip_duration</th>\n      <th>distance_km</th>\n    </tr>\n  </thead>\n  <tbody>\n    <tr>\n      <th>0</th>\n      <td>id2875421</td>\n      <td>1</td>\n      <td>2016-03-14 17:24:55</td>\n      <td>1</td>\n      <td>0</td>\n      <td>455.0</td>\n      <td>2.012516</td>\n    </tr>\n    <tr>\n      <th>1</th>\n      <td>id2377394</td>\n      <td>0</td>\n      <td>2016-06-12 00:43:35</td>\n      <td>1</td>\n      <td>0</td>\n      <td>663.0</td>\n      <td>3.070207</td>\n    </tr>\n    <tr>\n      <th>2</th>\n      <td>id3858529</td>\n      <td>1</td>\n      <td>2016-01-19 11:35:24</td>\n      <td>1</td>\n      <td>0</td>\n      <td>2124.0</td>\n      <td>5.541026</td>\n    </tr>\n    <tr>\n      <th>3</th>\n      <td>id3504673</td>\n      <td>1</td>\n      <td>2016-04-06 19:32:31</td>\n      <td>1</td>\n      <td>0</td>\n      <td>429.0</td>\n      <td>2.843521</td>\n    </tr>\n    <tr>\n      <th>4</th>\n      <td>id2181028</td>\n      <td>1</td>\n      <td>2016-03-26 13:30:55</td>\n      <td>1</td>\n      <td>0</td>\n      <td>435.0</td>\n      <td>2.481962</td>\n    </tr>\n  </tbody>\n</table>\n</div>"
     },
     "execution_count": 17,
     "metadata": {},
     "output_type": "execute_result"
    }
   ],
   "source": [
    "taxiDB.head()"
   ]
  },
  {
   "cell_type": "markdown",
   "id": "3fc31682",
   "metadata": {},
   "source": [
    "В-третьих, обратим внимание на колонку **passenger_count**.\n",
    "\n",
    "Какие значения она может принимать?"
   ]
  },
  {
   "cell_type": "code",
   "execution_count": 18,
   "id": "2c1f1f69",
   "metadata": {
    "ExecuteTime": {
     "end_time": "2023-07-01T16:39:56.614421Z",
     "start_time": "2023-07-01T16:39:56.569681Z"
    }
   },
   "outputs": [
    {
     "data": {
      "text/plain": "passenger_count\n1    1033540\n2     210318\n5      78088\n3      59896\n6      48333\n4      28404\n0         60\n7          3\n9          1\n8          1\nName: count, dtype: int64"
     },
     "execution_count": 18,
     "metadata": {},
     "output_type": "execute_result"
    }
   ],
   "source": [
    "taxiDB[\"passenger_count\"].value_counts()"
   ]
  },
  {
   "cell_type": "markdown",
   "id": "c7055874",
   "metadata": {},
   "source": [
    "Какой это признак, на ваш взгляд: вещественный, категориальный, порядковый? \n",
    "\n",
    "С одной стороны, можно воспринимать его как обычный вещественный признак. Ведь само по себе количество пассажиров (без дополнительной обработки) - это некоторое число, которое может принимать большое количество различных значений.\n",
    "\n",
    "С другой стороны, мы с Вами наверняка знаем, что количество пассажиров от поездки к поездке ограничено. Вряд ли если к нам придут новые данные, мы увидим числа бОльшие, чем у нас в датасете. Тогда рассуждаем следующим образом: раз множество значений признака ограничено, то он категориальный (или, в данном случае, даже порядковый! Ведь у нас могут быть какие-то логичные предположения о том, что количество пассажиров может влиять на модель машины и, соответственно, скорость ее передвижения и скорость поездки!)\n",
    "\n",
    "Какой подход выбрать лучше заранее наверняка не узнаешь. Нужны эксперименты с данными и моделями. Тем не менее, я предлагаю Вам предположить, что данный признак является категориальным, и попробовать отточить навыки кодировки таких фичей!\n",
    "\n",
    "Предлагаю Вам реализовать прием с **Mean-target encoding'ом**, как в практическом занятии. Замените колонку **passenger_count** колонкой **category_encoded**."
   ]
  },
  {
   "cell_type": "code",
   "execution_count": 19,
   "id": "a7d5312b",
   "metadata": {
    "ExecuteTime": {
     "end_time": "2023-07-01T16:39:56.614978Z",
     "start_time": "2023-07-01T16:39:56.573475Z"
    }
   },
   "outputs": [],
   "source": [
    "taxiDB[\"passenger_count\"] = taxiDB[\"passenger_count\"].map(taxiDB.groupby(\"passenger_count\")[\"trip_duration\"].mean())"
   ]
  },
  {
   "cell_type": "markdown",
   "id": "f6756fd7",
   "metadata": {},
   "source": [
    "Кажется, мы достаточно близки с Вами к тому, чтобы получить в итоге табличку, полностью состояющую из чиселок и, казалось бы, осмысленных признаков!\n",
    "\n",
    "Остались две колонки: **id**, **pickup_datetime**\n",
    "\n",
    "**id** можно использовать как обычный идентификатор нашего объекта, поэтому поместите данную колонку в качестве индекса нашей таблички:"
   ]
  },
  {
   "cell_type": "code",
   "execution_count": 20,
   "outputs": [],
   "source": [
    "taxiDB = taxiDB.set_index(\"id\")"
   ],
   "metadata": {
    "collapsed": false,
    "ExecuteTime": {
     "end_time": "2023-07-01T16:39:56.718285Z",
     "start_time": "2023-07-01T16:39:56.613215Z"
    }
   }
  },
  {
   "cell_type": "code",
   "execution_count": 21,
   "id": "ded60ad5",
   "metadata": {
    "ExecuteTime": {
     "end_time": "2023-07-01T16:39:56.771503Z",
     "start_time": "2023-07-01T16:39:56.690403Z"
    }
   },
   "outputs": [
    {
     "data": {
      "text/plain": "           vendor_id      pickup_datetime  passenger_count  \\\nid                                                           \nid2875421          1  2016-03-14 17:24:55       930.399753   \nid2377394          0  2016-06-12 00:43:35       930.399753   \nid3858529          1  2016-01-19 11:35:24       930.399753   \nid3504673          1  2016-04-06 19:32:31       930.399753   \nid2181028          1  2016-03-26 13:30:55       930.399753   \n\n           store_and_fwd_flag  trip_duration  distance_km  \nid                                                         \nid2875421                   0          455.0     2.012516  \nid2377394                   0          663.0     3.070207  \nid3858529                   0         2124.0     5.541026  \nid3504673                   0          429.0     2.843521  \nid2181028                   0          435.0     2.481962  ",
      "text/html": "<div>\n<style scoped>\n    .dataframe tbody tr th:only-of-type {\n        vertical-align: middle;\n    }\n\n    .dataframe tbody tr th {\n        vertical-align: top;\n    }\n\n    .dataframe thead th {\n        text-align: right;\n    }\n</style>\n<table border=\"1\" class=\"dataframe\">\n  <thead>\n    <tr style=\"text-align: right;\">\n      <th></th>\n      <th>vendor_id</th>\n      <th>pickup_datetime</th>\n      <th>passenger_count</th>\n      <th>store_and_fwd_flag</th>\n      <th>trip_duration</th>\n      <th>distance_km</th>\n    </tr>\n    <tr>\n      <th>id</th>\n      <th></th>\n      <th></th>\n      <th></th>\n      <th></th>\n      <th></th>\n      <th></th>\n    </tr>\n  </thead>\n  <tbody>\n    <tr>\n      <th>id2875421</th>\n      <td>1</td>\n      <td>2016-03-14 17:24:55</td>\n      <td>930.399753</td>\n      <td>0</td>\n      <td>455.0</td>\n      <td>2.012516</td>\n    </tr>\n    <tr>\n      <th>id2377394</th>\n      <td>0</td>\n      <td>2016-06-12 00:43:35</td>\n      <td>930.399753</td>\n      <td>0</td>\n      <td>663.0</td>\n      <td>3.070207</td>\n    </tr>\n    <tr>\n      <th>id3858529</th>\n      <td>1</td>\n      <td>2016-01-19 11:35:24</td>\n      <td>930.399753</td>\n      <td>0</td>\n      <td>2124.0</td>\n      <td>5.541026</td>\n    </tr>\n    <tr>\n      <th>id3504673</th>\n      <td>1</td>\n      <td>2016-04-06 19:32:31</td>\n      <td>930.399753</td>\n      <td>0</td>\n      <td>429.0</td>\n      <td>2.843521</td>\n    </tr>\n    <tr>\n      <th>id2181028</th>\n      <td>1</td>\n      <td>2016-03-26 13:30:55</td>\n      <td>930.399753</td>\n      <td>0</td>\n      <td>435.0</td>\n      <td>2.481962</td>\n    </tr>\n  </tbody>\n</table>\n</div>"
     },
     "execution_count": 21,
     "metadata": {},
     "output_type": "execute_result"
    }
   ],
   "source": [
    "taxiDB.head()"
   ]
  },
  {
   "cell_type": "code",
   "execution_count": 23,
   "outputs": [],
   "source": [
    "taxiDB.to_csv(\"taxi_dataset_new.csv\")"
   ],
   "metadata": {
    "collapsed": false,
    "ExecuteTime": {
     "end_time": "2023-07-01T16:40:43.139918Z",
     "start_time": "2023-07-01T16:40:38.533196Z"
    }
   }
  }
 ],
 "metadata": {
  "kernelspec": {
   "display_name": "Python 3 (ipykernel)",
   "language": "python",
   "name": "python3"
  },
  "language_info": {
   "codemirror_mode": {
    "name": "ipython",
    "version": 3
   },
   "file_extension": ".py",
   "mimetype": "text/x-python",
   "name": "python",
   "nbconvert_exporter": "python",
   "pygments_lexer": "ipython3",
   "version": "3.9.5"
  }
 },
 "nbformat": 4,
 "nbformat_minor": 5
}
